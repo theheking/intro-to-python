{
  "nbformat": 4,
  "nbformat_minor": 0,
  "metadata": {
    "colab": {
      "provenance": [],
      "authorship_tag": "ABX9TyM5kn7RF/zzl/wCjq5D+Bmi",
      "include_colab_link": true
    },
    "kernelspec": {
      "name": "python3",
      "display_name": "Python 3"
    },
    "language_info": {
      "name": "python"
    }
  },
  "cells": [
    {
      "cell_type": "markdown",
      "metadata": {
        "id": "view-in-github",
        "colab_type": "text"
      },
      "source": [
        "<a href=\"https://colab.research.google.com/github/theheking/intro-to-python/blob/gh-pages/4_CombiningDataFrameswPandas.ipynb\" target=\"_parent\"><img src=\"https://colab.research.google.com/assets/colab-badge.svg\" alt=\"Open In Colab\"/></a>"
      ]
    },
    {
      "cell_type": "markdown",
      "source": [
        "#Combining DataFrames with Pandas\n",
        "\n",
        "- need to combine multiple files --> single dataframe\n",
        "- pandas package provides various methods for combining DataFrames\n",
        "  - including merge and concat\n",
        "\n",
        "To work through the examples below, we first need to load the species and surveys files into pandas DataFrames. Before we start, we will make sure that libraries are currectly installed."
      ],
      "metadata": {
        "id": "_4vzGK0Q0OhJ"
      }
    },
    {
      "cell_type": "code",
      "execution_count": null,
      "metadata": {
        "colab": {
          "base_uri": "https://localhost:8080/"
        },
        "id": "gvpllRh-zpSz",
        "outputId": "b910ccba-1a39-4082-f8b0-41bf1e3a1aa1"
      },
      "outputs": [
        {
          "output_type": "stream",
          "name": "stdout",
          "text": [
            "Looking in indexes: https://pypi.org/simple, https://us-python.pkg.dev/colab-wheels/public/simple/\n",
            "Requirement already satisfied: pandas in /usr/local/lib/python3.7/dist-packages (1.3.5)\n",
            "Requirement already satisfied: matplotlib in /usr/local/lib/python3.7/dist-packages (3.2.2)\n",
            "Requirement already satisfied: python-dateutil>=2.7.3 in /usr/local/lib/python3.7/dist-packages (from pandas) (2.8.2)\n",
            "Requirement already satisfied: pytz>=2017.3 in /usr/local/lib/python3.7/dist-packages (from pandas) (2022.2.1)\n",
            "Requirement already satisfied: numpy>=1.17.3 in /usr/local/lib/python3.7/dist-packages (from pandas) (1.21.6)\n",
            "Requirement already satisfied: six>=1.5 in /usr/local/lib/python3.7/dist-packages (from python-dateutil>=2.7.3->pandas) (1.15.0)\n",
            "Requirement already satisfied: pyparsing!=2.0.4,!=2.1.2,!=2.1.6,>=2.0.1 in /usr/local/lib/python3.7/dist-packages (from matplotlib) (3.0.9)\n",
            "Requirement already satisfied: cycler>=0.10 in /usr/local/lib/python3.7/dist-packages (from matplotlib) (0.11.0)\n",
            "Requirement already satisfied: kiwisolver>=1.0.1 in /usr/local/lib/python3.7/dist-packages (from matplotlib) (1.4.4)\n",
            "Requirement already satisfied: typing-extensions in /usr/local/lib/python3.7/dist-packages (from kiwisolver>=1.0.1->matplotlib) (4.1.1)\n"
          ]
        }
      ],
      "source": [
        "!pip install pandas matplotlib\n"
      ]
    },
    {
      "cell_type": "code",
      "source": [
        "import urllib.request\n",
        "# You can also get this URL value by right-clicking the `surveys.csv` link above and selecting \"Copy Link Address\"\n",
        "url = 'https://monashdatafluency.github.io/python-workshop-base/modules/data/surveys.csv'\n",
        "# url = 'https://goo.gl/9ZxqBg'  # or a shortened version to save typing\n",
        "urllib.request.urlretrieve(url, 'surveys.csv')"
      ],
      "metadata": {
        "colab": {
          "base_uri": "https://localhost:8080/"
        },
        "id": "4_9QOKe2CyUO",
        "outputId": "296901d5-9405-43dd-c673-2347c5bc4d3c"
      },
      "execution_count": null,
      "outputs": [
        {
          "output_type": "execute_result",
          "data": {
            "text/plain": [
              "('surveys.csv', <http.client.HTTPMessage at 0x7fca58d93e10>)"
            ]
          },
          "metadata": {},
          "execution_count": 3
        }
      ]
    },
    {
      "cell_type": "code",
      "source": [
        "import pandas as pd\n",
        "surveys_df = pd.read_csv(\"surveys.csv\",\n",
        "                         keep_default_na=False, na_values=[\"\"])\n",
        "surveys_df"
      ],
      "metadata": {
        "colab": {
          "base_uri": "https://localhost:8080/",
          "height": 424
        },
        "id": "f77hC84Q0YDE",
        "outputId": "a87e66d9-753f-41f9-e389-01fae338493e"
      },
      "execution_count": null,
      "outputs": [
        {
          "output_type": "execute_result",
          "data": {
            "text/plain": [
              "       record_id  month  day  year  site_id species_id  sex  hindfoot_length  \\\n",
              "0              1      7   16  1977        2         NL    M             32.0   \n",
              "1              2      7   16  1977        3         NL    M             33.0   \n",
              "2              3      7   16  1977        2         DM    F             37.0   \n",
              "3              4      7   16  1977        7         DM    M             36.0   \n",
              "4              5      7   16  1977        3         DM    M             35.0   \n",
              "...          ...    ...  ...   ...      ...        ...  ...              ...   \n",
              "35544      35545     12   31  2002       15         AH  NaN              NaN   \n",
              "35545      35546     12   31  2002       15         AH  NaN              NaN   \n",
              "35546      35547     12   31  2002       10         RM    F             15.0   \n",
              "35547      35548     12   31  2002        7         DO    M             36.0   \n",
              "35548      35549     12   31  2002        5        NaN  NaN              NaN   \n",
              "\n",
              "       weight  \n",
              "0         NaN  \n",
              "1         NaN  \n",
              "2         NaN  \n",
              "3         NaN  \n",
              "4         NaN  \n",
              "...       ...  \n",
              "35544     NaN  \n",
              "35545     NaN  \n",
              "35546    14.0  \n",
              "35547    51.0  \n",
              "35548     NaN  \n",
              "\n",
              "[35549 rows x 9 columns]"
            ],
            "text/html": [
              "\n",
              "  <div id=\"df-d53f08e8-b20e-4ef0-a537-80518e34ad6a\">\n",
              "    <div class=\"colab-df-container\">\n",
              "      <div>\n",
              "<style scoped>\n",
              "    .dataframe tbody tr th:only-of-type {\n",
              "        vertical-align: middle;\n",
              "    }\n",
              "\n",
              "    .dataframe tbody tr th {\n",
              "        vertical-align: top;\n",
              "    }\n",
              "\n",
              "    .dataframe thead th {\n",
              "        text-align: right;\n",
              "    }\n",
              "</style>\n",
              "<table border=\"1\" class=\"dataframe\">\n",
              "  <thead>\n",
              "    <tr style=\"text-align: right;\">\n",
              "      <th></th>\n",
              "      <th>record_id</th>\n",
              "      <th>month</th>\n",
              "      <th>day</th>\n",
              "      <th>year</th>\n",
              "      <th>site_id</th>\n",
              "      <th>species_id</th>\n",
              "      <th>sex</th>\n",
              "      <th>hindfoot_length</th>\n",
              "      <th>weight</th>\n",
              "    </tr>\n",
              "  </thead>\n",
              "  <tbody>\n",
              "    <tr>\n",
              "      <th>0</th>\n",
              "      <td>1</td>\n",
              "      <td>7</td>\n",
              "      <td>16</td>\n",
              "      <td>1977</td>\n",
              "      <td>2</td>\n",
              "      <td>NL</td>\n",
              "      <td>M</td>\n",
              "      <td>32.0</td>\n",
              "      <td>NaN</td>\n",
              "    </tr>\n",
              "    <tr>\n",
              "      <th>1</th>\n",
              "      <td>2</td>\n",
              "      <td>7</td>\n",
              "      <td>16</td>\n",
              "      <td>1977</td>\n",
              "      <td>3</td>\n",
              "      <td>NL</td>\n",
              "      <td>M</td>\n",
              "      <td>33.0</td>\n",
              "      <td>NaN</td>\n",
              "    </tr>\n",
              "    <tr>\n",
              "      <th>2</th>\n",
              "      <td>3</td>\n",
              "      <td>7</td>\n",
              "      <td>16</td>\n",
              "      <td>1977</td>\n",
              "      <td>2</td>\n",
              "      <td>DM</td>\n",
              "      <td>F</td>\n",
              "      <td>37.0</td>\n",
              "      <td>NaN</td>\n",
              "    </tr>\n",
              "    <tr>\n",
              "      <th>3</th>\n",
              "      <td>4</td>\n",
              "      <td>7</td>\n",
              "      <td>16</td>\n",
              "      <td>1977</td>\n",
              "      <td>7</td>\n",
              "      <td>DM</td>\n",
              "      <td>M</td>\n",
              "      <td>36.0</td>\n",
              "      <td>NaN</td>\n",
              "    </tr>\n",
              "    <tr>\n",
              "      <th>4</th>\n",
              "      <td>5</td>\n",
              "      <td>7</td>\n",
              "      <td>16</td>\n",
              "      <td>1977</td>\n",
              "      <td>3</td>\n",
              "      <td>DM</td>\n",
              "      <td>M</td>\n",
              "      <td>35.0</td>\n",
              "      <td>NaN</td>\n",
              "    </tr>\n",
              "    <tr>\n",
              "      <th>...</th>\n",
              "      <td>...</td>\n",
              "      <td>...</td>\n",
              "      <td>...</td>\n",
              "      <td>...</td>\n",
              "      <td>...</td>\n",
              "      <td>...</td>\n",
              "      <td>...</td>\n",
              "      <td>...</td>\n",
              "      <td>...</td>\n",
              "    </tr>\n",
              "    <tr>\n",
              "      <th>35544</th>\n",
              "      <td>35545</td>\n",
              "      <td>12</td>\n",
              "      <td>31</td>\n",
              "      <td>2002</td>\n",
              "      <td>15</td>\n",
              "      <td>AH</td>\n",
              "      <td>NaN</td>\n",
              "      <td>NaN</td>\n",
              "      <td>NaN</td>\n",
              "    </tr>\n",
              "    <tr>\n",
              "      <th>35545</th>\n",
              "      <td>35546</td>\n",
              "      <td>12</td>\n",
              "      <td>31</td>\n",
              "      <td>2002</td>\n",
              "      <td>15</td>\n",
              "      <td>AH</td>\n",
              "      <td>NaN</td>\n",
              "      <td>NaN</td>\n",
              "      <td>NaN</td>\n",
              "    </tr>\n",
              "    <tr>\n",
              "      <th>35546</th>\n",
              "      <td>35547</td>\n",
              "      <td>12</td>\n",
              "      <td>31</td>\n",
              "      <td>2002</td>\n",
              "      <td>10</td>\n",
              "      <td>RM</td>\n",
              "      <td>F</td>\n",
              "      <td>15.0</td>\n",
              "      <td>14.0</td>\n",
              "    </tr>\n",
              "    <tr>\n",
              "      <th>35547</th>\n",
              "      <td>35548</td>\n",
              "      <td>12</td>\n",
              "      <td>31</td>\n",
              "      <td>2002</td>\n",
              "      <td>7</td>\n",
              "      <td>DO</td>\n",
              "      <td>M</td>\n",
              "      <td>36.0</td>\n",
              "      <td>51.0</td>\n",
              "    </tr>\n",
              "    <tr>\n",
              "      <th>35548</th>\n",
              "      <td>35549</td>\n",
              "      <td>12</td>\n",
              "      <td>31</td>\n",
              "      <td>2002</td>\n",
              "      <td>5</td>\n",
              "      <td>NaN</td>\n",
              "      <td>NaN</td>\n",
              "      <td>NaN</td>\n",
              "      <td>NaN</td>\n",
              "    </tr>\n",
              "  </tbody>\n",
              "</table>\n",
              "<p>35549 rows × 9 columns</p>\n",
              "</div>\n",
              "      <button class=\"colab-df-convert\" onclick=\"convertToInteractive('df-d53f08e8-b20e-4ef0-a537-80518e34ad6a')\"\n",
              "              title=\"Convert this dataframe to an interactive table.\"\n",
              "              style=\"display:none;\">\n",
              "        \n",
              "  <svg xmlns=\"http://www.w3.org/2000/svg\" height=\"24px\"viewBox=\"0 0 24 24\"\n",
              "       width=\"24px\">\n",
              "    <path d=\"M0 0h24v24H0V0z\" fill=\"none\"/>\n",
              "    <path d=\"M18.56 5.44l.94 2.06.94-2.06 2.06-.94-2.06-.94-.94-2.06-.94 2.06-2.06.94zm-11 1L8.5 8.5l.94-2.06 2.06-.94-2.06-.94L8.5 2.5l-.94 2.06-2.06.94zm10 10l.94 2.06.94-2.06 2.06-.94-2.06-.94-.94-2.06-.94 2.06-2.06.94z\"/><path d=\"M17.41 7.96l-1.37-1.37c-.4-.4-.92-.59-1.43-.59-.52 0-1.04.2-1.43.59L10.3 9.45l-7.72 7.72c-.78.78-.78 2.05 0 2.83L4 21.41c.39.39.9.59 1.41.59.51 0 1.02-.2 1.41-.59l7.78-7.78 2.81-2.81c.8-.78.8-2.07 0-2.86zM5.41 20L4 18.59l7.72-7.72 1.47 1.35L5.41 20z\"/>\n",
              "  </svg>\n",
              "      </button>\n",
              "      \n",
              "  <style>\n",
              "    .colab-df-container {\n",
              "      display:flex;\n",
              "      flex-wrap:wrap;\n",
              "      gap: 12px;\n",
              "    }\n",
              "\n",
              "    .colab-df-convert {\n",
              "      background-color: #E8F0FE;\n",
              "      border: none;\n",
              "      border-radius: 50%;\n",
              "      cursor: pointer;\n",
              "      display: none;\n",
              "      fill: #1967D2;\n",
              "      height: 32px;\n",
              "      padding: 0 0 0 0;\n",
              "      width: 32px;\n",
              "    }\n",
              "\n",
              "    .colab-df-convert:hover {\n",
              "      background-color: #E2EBFA;\n",
              "      box-shadow: 0px 1px 2px rgba(60, 64, 67, 0.3), 0px 1px 3px 1px rgba(60, 64, 67, 0.15);\n",
              "      fill: #174EA6;\n",
              "    }\n",
              "\n",
              "    [theme=dark] .colab-df-convert {\n",
              "      background-color: #3B4455;\n",
              "      fill: #D2E3FC;\n",
              "    }\n",
              "\n",
              "    [theme=dark] .colab-df-convert:hover {\n",
              "      background-color: #434B5C;\n",
              "      box-shadow: 0px 1px 3px 1px rgba(0, 0, 0, 0.15);\n",
              "      filter: drop-shadow(0px 1px 2px rgba(0, 0, 0, 0.3));\n",
              "      fill: #FFFFFF;\n",
              "    }\n",
              "  </style>\n",
              "\n",
              "      <script>\n",
              "        const buttonEl =\n",
              "          document.querySelector('#df-d53f08e8-b20e-4ef0-a537-80518e34ad6a button.colab-df-convert');\n",
              "        buttonEl.style.display =\n",
              "          google.colab.kernel.accessAllowed ? 'block' : 'none';\n",
              "\n",
              "        async function convertToInteractive(key) {\n",
              "          const element = document.querySelector('#df-d53f08e8-b20e-4ef0-a537-80518e34ad6a');\n",
              "          const dataTable =\n",
              "            await google.colab.kernel.invokeFunction('convertToInteractive',\n",
              "                                                     [key], {});\n",
              "          if (!dataTable) return;\n",
              "\n",
              "          const docLinkHtml = 'Like what you see? Visit the ' +\n",
              "            '<a target=\"_blank\" href=https://colab.research.google.com/notebooks/data_table.ipynb>data table notebook</a>'\n",
              "            + ' to learn more about interactive tables.';\n",
              "          element.innerHTML = '';\n",
              "          dataTable['output_type'] = 'display_data';\n",
              "          await google.colab.output.renderOutput(dataTable, element);\n",
              "          const docLink = document.createElement('div');\n",
              "          docLink.innerHTML = docLinkHtml;\n",
              "          element.appendChild(docLink);\n",
              "        }\n",
              "      </script>\n",
              "    </div>\n",
              "  </div>\n",
              "  "
            ]
          },
          "metadata": {},
          "execution_count": 4
        }
      ]
    },
    {
      "cell_type": "markdown",
      "source": [
        "# Concatenating DataFrames\n",
        "\n",
        "Need to think about the dataframe stuctures before hand"
      ],
      "metadata": {
        "id": "1x6IMSdF0fY3"
      }
    },
    {
      "cell_type": "code",
      "source": [
        "\n",
        "# Read in first 10 lines of surveys table\n",
        "survey_sub = surveys_df.head(10)\n",
        "# Grab the last 10 rows\n",
        "survey_sub_last10 = surveys_df.tail(10)\n",
        "# Reset the index values to the second dataframe appends properly\n",
        "survey_sub_last10=survey_sub_last10.reset_index(drop=True)\n",
        "# drop=True option avoids adding new index column with old index values"
      ],
      "metadata": {
        "id": "2rtqaxPSBjwG"
      },
      "execution_count": null,
      "outputs": []
    },
    {
      "cell_type": "markdown",
      "source": [
        "-  use the concat function in pandas to append either columns or rows from one DataFrame to another. \n",
        "\n",
        "- specify the axis\n",
        "- axis=0 --> stack the second DataFrame under the first one.\n",
        "- axis=1 will stack the columns in the second DataFrame to the RIGHT of the first DataFrame.\n"
      ],
      "metadata": {
        "id": "XKwd10AcBmH9"
      }
    },
    {
      "cell_type": "code",
      "source": [
        "# Stack the DataFrames on top of each other\n",
        "vertical_stack = pd.concat([survey_sub, survey_sub_last10], axis=0)\n",
        "\n",
        "# Place the DataFrames side by side\n",
        "horizontal_stack = pd.concat([survey_sub, survey_sub_last10], axis=1)\n"
      ],
      "metadata": {
        "id": "n_JMD_vQ0e6q"
      },
      "execution_count": null,
      "outputs": []
    },
    {
      "cell_type": "markdown",
      "source": [
        "## Row Index Values and Concat\n",
        "\n",
        "- check out vertical_stack dataframe\n",
        "- notice anything unusual?\n",
        "\n",
        "- To reset the index need to use reset_index function?"
      ],
      "metadata": {
        "id": "jjxbhp2zBzMY"
      }
    },
    {
      "cell_type": "markdown",
      "source": [
        "# Writing Out Data to CSV\n",
        "- we can use the to_csv command to do export a DataFrame\n",
        "- Export to your current working directory\n"
      ],
      "metadata": {
        "id": "0o-5locDDLvk"
      }
    },
    {
      "cell_type": "code",
      "source": [
        "# Write DataFrame to CSV\n",
        "vertical_stack.to_csv('output/out.csv', index=False)\n"
      ],
      "metadata": {
        "id": "uVvgBzl0DKYn"
      },
      "execution_count": null,
      "outputs": []
    },
    {
      "cell_type": "code",
      "source": [
        "# For kicks read our output back into Python and make sure all looks good\n",
        "new_output = pd.read_csv('output/out.csv', keep_default_na=False, na_values=[\"\"])\n"
      ],
      "metadata": {
        "id": "qIoMMUZjDSc_"
      },
      "execution_count": null,
      "outputs": []
    },
    {
      "cell_type": "markdown",
      "source": [
        "Challenge - Combine Data\n",
        "In the data folder:\n",
        "- Input two survey data files - survey2001.csv & survey2002.csv\n",
        "- New file locations of 'https://ucsbcarpentry.github.io/truncated-python-ecology-lesson/data/yearly_files/surveys2001.csv'\n",
        "- Combine into one new dataframe\n",
        "- Create a plot of average plot weight by year of group by sex\n",
        "- Export your results as a csv and make sure it reads back into python properly"
      ],
      "metadata": {
        "id": "vEIh5Ie9Dlzh"
      }
    },
    {
      "cell_type": "code",
      "source": [
        "import urllib.request\n",
        "# You can also get this URL value by right-clicking the `surveys.csv` link above and selecting \"Copy Link Address\"\n",
        "url = 'https://ucsbcarpentry.github.io/truncated-python-ecology-lesson/data/yearly_files/surveys2001.csv'\n",
        "# url = 'https://goo.gl/9ZxqBg'  # or a shortened version to save typing\n",
        "urllib.request.urlretrieve(url, 'surveys2001.csv')\n",
        "# You can also get this URL value by right-clicking the `surveys.csv` link above and selecting \"Copy Link Address\"\n",
        "url = 'https://ucsbcarpentry.github.io/truncated-python-ecology-lesson/data/yearly_files/surveys2001.csv'\n",
        "# url = 'https://goo.gl/9ZxqBg'  # or a shortened version to save typing\n",
        "urllib.request.urlretrieve(url, 'surveys2002.csv')\n",
        "\n"
      ],
      "metadata": {
        "colab": {
          "base_uri": "https://localhost:8080/"
        },
        "id": "oXKnMc604dm7",
        "outputId": "2e3c617f-4740-40c9-f14a-9dcdbaf23afe"
      },
      "execution_count": null,
      "outputs": [
        {
          "output_type": "execute_result",
          "data": {
            "text/plain": [
              "('surveys2002.csv', <http.client.HTTPMessage at 0x7fe260bcfbd0>)"
            ]
          },
          "metadata": {},
          "execution_count": 1
        }
      ]
    },
    {
      "cell_type": "code",
      "source": [
        "survey_2002=pd.read_csv('surveys2002.csv')\n",
        "survey_2001=pd.read_csv('surveys2001.csv')"
      ],
      "metadata": {
        "id": "umCEliNd5aN-"
      },
      "execution_count": null,
      "outputs": []
    },
    {
      "cell_type": "code",
      "source": [
        "print(survey_2002.columns)\n",
        "print(survey_2001.columns)\n",
        "\n",
        "concat_df=pd.concat([survey_2001, survey_2002])"
      ],
      "metadata": {
        "colab": {
          "base_uri": "https://localhost:8080/"
        },
        "id": "h_rx1krV4l1e",
        "outputId": "de30c610-eaea-4588-b74b-6ef882e8376d"
      },
      "execution_count": null,
      "outputs": [
        {
          "output_type": "stream",
          "name": "stdout",
          "text": [
            "Index(['Unnamed: 0', 'record_id', 'month', 'day', 'year', 'site_id',\n",
            "       'species_id', 'sex', 'hindfoot_length', 'weight'],\n",
            "      dtype='object')\n",
            "Index(['Unnamed: 0', 'record_id', 'month', 'day', 'year', 'site_id',\n",
            "       'species_id', 'sex', 'hindfoot_length', 'weight'],\n",
            "      dtype='object')\n"
          ]
        }
      ]
    },
    {
      "cell_type": "code",
      "source": [
        "concat_df.head(n=2)"
      ],
      "metadata": {
        "colab": {
          "base_uri": "https://localhost:8080/",
          "height": 193
        },
        "id": "-iDDx_8F7atS",
        "outputId": "da3511c7-e85e-4c37-e09d-c600bd38e041"
      },
      "execution_count": null,
      "outputs": [
        {
          "output_type": "execute_result",
          "data": {
            "text/plain": [
              "   Unnamed: 0  record_id  month  day  year  site_id species_id sex  \\\n",
              "0       31710      31711      1   21  2001        1         PB   F   \n",
              "1       31711      31712      1   21  2001        1         DM   M   \n",
              "\n",
              "   hindfoot_length  weight  \n",
              "0             26.0    25.0  \n",
              "1             37.0    43.0  "
            ],
            "text/html": [
              "\n",
              "  <div id=\"df-e8649d6f-1989-4c22-abf5-8560532f6045\">\n",
              "    <div class=\"colab-df-container\">\n",
              "      <div>\n",
              "<style scoped>\n",
              "    .dataframe tbody tr th:only-of-type {\n",
              "        vertical-align: middle;\n",
              "    }\n",
              "\n",
              "    .dataframe tbody tr th {\n",
              "        vertical-align: top;\n",
              "    }\n",
              "\n",
              "    .dataframe thead th {\n",
              "        text-align: right;\n",
              "    }\n",
              "</style>\n",
              "<table border=\"1\" class=\"dataframe\">\n",
              "  <thead>\n",
              "    <tr style=\"text-align: right;\">\n",
              "      <th></th>\n",
              "      <th>Unnamed: 0</th>\n",
              "      <th>record_id</th>\n",
              "      <th>month</th>\n",
              "      <th>day</th>\n",
              "      <th>year</th>\n",
              "      <th>site_id</th>\n",
              "      <th>species_id</th>\n",
              "      <th>sex</th>\n",
              "      <th>hindfoot_length</th>\n",
              "      <th>weight</th>\n",
              "    </tr>\n",
              "  </thead>\n",
              "  <tbody>\n",
              "    <tr>\n",
              "      <th>0</th>\n",
              "      <td>31710</td>\n",
              "      <td>31711</td>\n",
              "      <td>1</td>\n",
              "      <td>21</td>\n",
              "      <td>2001</td>\n",
              "      <td>1</td>\n",
              "      <td>PB</td>\n",
              "      <td>F</td>\n",
              "      <td>26.0</td>\n",
              "      <td>25.0</td>\n",
              "    </tr>\n",
              "    <tr>\n",
              "      <th>1</th>\n",
              "      <td>31711</td>\n",
              "      <td>31712</td>\n",
              "      <td>1</td>\n",
              "      <td>21</td>\n",
              "      <td>2001</td>\n",
              "      <td>1</td>\n",
              "      <td>DM</td>\n",
              "      <td>M</td>\n",
              "      <td>37.0</td>\n",
              "      <td>43.0</td>\n",
              "    </tr>\n",
              "  </tbody>\n",
              "</table>\n",
              "</div>\n",
              "      <button class=\"colab-df-convert\" onclick=\"convertToInteractive('df-e8649d6f-1989-4c22-abf5-8560532f6045')\"\n",
              "              title=\"Convert this dataframe to an interactive table.\"\n",
              "              style=\"display:none;\">\n",
              "        \n",
              "  <svg xmlns=\"http://www.w3.org/2000/svg\" height=\"24px\"viewBox=\"0 0 24 24\"\n",
              "       width=\"24px\">\n",
              "    <path d=\"M0 0h24v24H0V0z\" fill=\"none\"/>\n",
              "    <path d=\"M18.56 5.44l.94 2.06.94-2.06 2.06-.94-2.06-.94-.94-2.06-.94 2.06-2.06.94zm-11 1L8.5 8.5l.94-2.06 2.06-.94-2.06-.94L8.5 2.5l-.94 2.06-2.06.94zm10 10l.94 2.06.94-2.06 2.06-.94-2.06-.94-.94-2.06-.94 2.06-2.06.94z\"/><path d=\"M17.41 7.96l-1.37-1.37c-.4-.4-.92-.59-1.43-.59-.52 0-1.04.2-1.43.59L10.3 9.45l-7.72 7.72c-.78.78-.78 2.05 0 2.83L4 21.41c.39.39.9.59 1.41.59.51 0 1.02-.2 1.41-.59l7.78-7.78 2.81-2.81c.8-.78.8-2.07 0-2.86zM5.41 20L4 18.59l7.72-7.72 1.47 1.35L5.41 20z\"/>\n",
              "  </svg>\n",
              "      </button>\n",
              "      \n",
              "  <style>\n",
              "    .colab-df-container {\n",
              "      display:flex;\n",
              "      flex-wrap:wrap;\n",
              "      gap: 12px;\n",
              "    }\n",
              "\n",
              "    .colab-df-convert {\n",
              "      background-color: #E8F0FE;\n",
              "      border: none;\n",
              "      border-radius: 50%;\n",
              "      cursor: pointer;\n",
              "      display: none;\n",
              "      fill: #1967D2;\n",
              "      height: 32px;\n",
              "      padding: 0 0 0 0;\n",
              "      width: 32px;\n",
              "    }\n",
              "\n",
              "    .colab-df-convert:hover {\n",
              "      background-color: #E2EBFA;\n",
              "      box-shadow: 0px 1px 2px rgba(60, 64, 67, 0.3), 0px 1px 3px 1px rgba(60, 64, 67, 0.15);\n",
              "      fill: #174EA6;\n",
              "    }\n",
              "\n",
              "    [theme=dark] .colab-df-convert {\n",
              "      background-color: #3B4455;\n",
              "      fill: #D2E3FC;\n",
              "    }\n",
              "\n",
              "    [theme=dark] .colab-df-convert:hover {\n",
              "      background-color: #434B5C;\n",
              "      box-shadow: 0px 1px 3px 1px rgba(0, 0, 0, 0.15);\n",
              "      filter: drop-shadow(0px 1px 2px rgba(0, 0, 0, 0.3));\n",
              "      fill: #FFFFFF;\n",
              "    }\n",
              "  </style>\n",
              "\n",
              "      <script>\n",
              "        const buttonEl =\n",
              "          document.querySelector('#df-e8649d6f-1989-4c22-abf5-8560532f6045 button.colab-df-convert');\n",
              "        buttonEl.style.display =\n",
              "          google.colab.kernel.accessAllowed ? 'block' : 'none';\n",
              "\n",
              "        async function convertToInteractive(key) {\n",
              "          const element = document.querySelector('#df-e8649d6f-1989-4c22-abf5-8560532f6045');\n",
              "          const dataTable =\n",
              "            await google.colab.kernel.invokeFunction('convertToInteractive',\n",
              "                                                     [key], {});\n",
              "          if (!dataTable) return;\n",
              "\n",
              "          const docLinkHtml = 'Like what you see? Visit the ' +\n",
              "            '<a target=\"_blank\" href=https://colab.research.google.com/notebooks/data_table.ipynb>data table notebook</a>'\n",
              "            + ' to learn more about interactive tables.';\n",
              "          element.innerHTML = '';\n",
              "          dataTable['output_type'] = 'display_data';\n",
              "          await google.colab.output.renderOutput(dataTable, element);\n",
              "          const docLink = document.createElement('div');\n",
              "          docLink.innerHTML = docLinkHtml;\n",
              "          element.appendChild(docLink);\n",
              "        }\n",
              "      </script>\n",
              "    </div>\n",
              "  </div>\n",
              "  "
            ]
          },
          "metadata": {},
          "execution_count": 26
        }
      ]
    },
    {
      "cell_type": "code",
      "source": [
        "import matplotlib.pyplot as plt"
      ],
      "metadata": {
        "id": "PhIHZxW77fg2"
      },
      "execution_count": null,
      "outputs": []
    },
    {
      "cell_type": "code",
      "source": [
        "#create a plot of average plot weight by year of group by sex\n",
        "\n",
        "#concat_df weight \n",
        "#concat_df sex \n",
        "#concat_df group\n",
        "concat_df[['weight','year']].value_counts().plot(x=\"weight\", y=\"year\", kind=\"bar\" )"
      ],
      "metadata": {
        "colab": {
          "base_uri": "https://localhost:8080/",
          "height": 356
        },
        "id": "atHlUPwS6liF",
        "outputId": "ab4a273b-7b3e-464b-ecf9-0c127d5ec268"
      },
      "execution_count": null,
      "outputs": [
        {
          "output_type": "execute_result",
          "data": {
            "text/plain": [
              "<matplotlib.axes._subplots.AxesSubplot at 0x7fe2577aa490>"
            ]
          },
          "metadata": {},
          "execution_count": 35
        },
        {
          "output_type": "display_data",
          "data": {
            "text/plain": [
              "<Figure size 432x288 with 1 Axes>"
            ],
            "image/png": "[encoded data removed]"
          },
          "metadata": {
            "needs_background": "light"
          }
        }
      ]
    },
    {
      "cell_type": "markdown",
      "source": [
        "# Joining DataFrames\n",
        "Another method is to combine DataFrames is to use columns in each dataset that contain a common id\n",
        "- \"joining\"\n",
        "- \"join keys\" columns containing common values are join keys\n",
        "- good application when using lookup tables\n",
        "\n",
        "Benefits of joining\n",
        "- consistency of data\n",
        "- Make changes to infomation at once\n",
        "- optimises size of our data"
      ],
      "metadata": {
        "id": "6JBb1GJPHyxE"
      }
    },
    {
      "cell_type": "markdown",
      "source": [
        "## Joining Two DataFrames\n",
        "\n",
        "- Use head to find the first 10 lines of data.\n"
      ],
      "metadata": {
        "id": "YHpCMHSnI5c3"
      }
    },
    {
      "cell_type": "code",
      "source": [
        "# Read in first 10 lines of surveys table\n",
        "survey_sub = surveys_df.head(10)\n",
        "\n",
        "### Download speciesSubset.csv file from web\n",
        "import urllib.request\n",
        "\n",
        "url = 'https://bit.ly/2DfqN6C'\n",
        "\n",
        "\n",
        "urllib.request.urlretrieve(url, 'speciesSubset.csv')\n",
        "\n",
        "# Import a small subset of the species data designed for this part of the lesson.\n",
        "# It is stored in the data folder.\n",
        "species_sub = pd.read_csv('speciesSubset.csv', keep_default_na=False, na_values=[\"\"])"
      ],
      "metadata": {
        "id": "bKpo4uz_Hykk"
      },
      "execution_count": null,
      "outputs": []
    },
    {
      "cell_type": "code",
      "source": [
        "#species sub is the lookup table containing all the names you want to join with survey_sub --> produces a new ataframe \n",
        "#containing all columns from both species_df and survey_df\n",
        "\n",
        "print(species_sub.columns)\n",
        "print(survey_sub.columns)\n"
      ],
      "metadata": {
        "colab": {
          "base_uri": "https://localhost:8080/"
        },
        "id": "0pFK-6z3HyYV",
        "outputId": "89f00bd1-b0ad-46e4-d96f-0bd5486cba74"
      },
      "execution_count": null,
      "outputs": [
        {
          "output_type": "stream",
          "name": "stdout",
          "text": [
            "Index(['species_id', 'genus', 'species', 'taxa'], dtype='object')\n",
            "Index(['record_id', 'month', 'day', 'year', 'site_id', 'species_id', 'sex',\n",
            "       'hindfoot_length', 'weight'],\n",
            "      dtype='object')\n"
          ]
        }
      ]
    },
    {
      "cell_type": "markdown",
      "source": [
        "our join key is the column containing the two-letter species identifier called species_id\n",
        "\n",
        "Now to join.... \n",
        "but there are different types\n",
        "\n",
        "![image.png](data:image/png;base64,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)"
      ],
      "metadata": {
        "id": "h5SVCE3fJsp0"
      }
    },
    {
      "cell_type": "markdown",
      "source": [
        "The arguement of the function merge\n",
        "- left\n",
        "- right\n",
        "- left_on\n",
        "- right_on\n",
        "- how\n",
        "\n",
        "# Inner joins \n",
        "- the value has to be present in both tables \n",
        "\n",
        "\n",
        "Are the number of rows different in between the different dataframes?\n"
      ],
      "metadata": {
        "id": "EDg6CAAGJsfs"
      }
    },
    {
      "cell_type": "code",
      "source": [
        "merged_inner = pd.merge(left=survey_sub,right=species_sub, left_on='species_id', right_on='species_id')\n",
        "# In this case `species_id` is the only column name in  both dataframes, so if we skippd `left_on`\n",
        "# And `right_on` arguments we would still get the same result\n",
        "\n",
        "# What's the size of the output data?\n",
        "print(merged_inner.shape)\n",
        "merged_inner\n"
      ],
      "metadata": {
        "colab": {
          "base_uri": "https://localhost:8080/",
          "height": 318
        },
        "id": "7GeXLbSSJsGc",
        "outputId": "23874286-4004-487e-df24-e8f9c4274954"
      },
      "execution_count": null,
      "outputs": [
        {
          "output_type": "stream",
          "name": "stdout",
          "text": [
            "(8, 12)\n"
          ]
        },
        {
          "output_type": "execute_result",
          "data": {
            "text/plain": [
              "   record_id  month  day  year  site_id species_id sex  hindfoot_length  \\\n",
              "0          1      7   16  1977        2         NL   M             32.0   \n",
              "1          2      7   16  1977        3         NL   M             33.0   \n",
              "2          3      7   16  1977        2         DM   F             37.0   \n",
              "3          4      7   16  1977        7         DM   M             36.0   \n",
              "4          5      7   16  1977        3         DM   M             35.0   \n",
              "5          8      7   16  1977        1         DM   M             37.0   \n",
              "6          9      7   16  1977        1         DM   F             34.0   \n",
              "7          7      7   16  1977        2         PE   F              NaN   \n",
              "\n",
              "   weight       genus   species    taxa  \n",
              "0     NaN     Neotoma  albigula  Rodent  \n",
              "1     NaN     Neotoma  albigula  Rodent  \n",
              "2     NaN   Dipodomys  merriami  Rodent  \n",
              "3     NaN   Dipodomys  merriami  Rodent  \n",
              "4     NaN   Dipodomys  merriami  Rodent  \n",
              "5     NaN   Dipodomys  merriami  Rodent  \n",
              "6     NaN   Dipodomys  merriami  Rodent  \n",
              "7     NaN  Peromyscus  eremicus  Rodent  "
            ],
            "text/html": [
              "\n",
              "  <div id=\"df-051e855a-f70b-4370-ba87-834f46fe4ac3\">\n",
              "    <div class=\"colab-df-container\">\n",
              "      <div>\n",
              "<style scoped>\n",
              "    .dataframe tbody tr th:only-of-type {\n",
              "        vertical-align: middle;\n",
              "    }\n",
              "\n",
              "    .dataframe tbody tr th {\n",
              "        vertical-align: top;\n",
              "    }\n",
              "\n",
              "    .dataframe thead th {\n",
              "        text-align: right;\n",
              "    }\n",
              "</style>\n",
              "<table border=\"1\" class=\"dataframe\">\n",
              "  <thead>\n",
              "    <tr style=\"text-align: right;\">\n",
              "      <th></th>\n",
              "      <th>record_id</th>\n",
              "      <th>month</th>\n",
              "      <th>day</th>\n",
              "      <th>year</th>\n",
              "      <th>site_id</th>\n",
              "      <th>species_id</th>\n",
              "      <th>sex</th>\n",
              "      <th>hindfoot_length</th>\n",
              "      <th>weight</th>\n",
              "      <th>genus</th>\n",
              "      <th>species</th>\n",
              "      <th>taxa</th>\n",
              "    </tr>\n",
              "  </thead>\n",
              "  <tbody>\n",
              "    <tr>\n",
              "      <th>0</th>\n",
              "      <td>1</td>\n",
              "      <td>7</td>\n",
              "      <td>16</td>\n",
              "      <td>1977</td>\n",
              "      <td>2</td>\n",
              "      <td>NL</td>\n",
              "      <td>M</td>\n",
              "      <td>32.0</td>\n",
              "      <td>NaN</td>\n",
              "      <td>Neotoma</td>\n",
              "      <td>albigula</td>\n",
              "      <td>Rodent</td>\n",
              "    </tr>\n",
              "    <tr>\n",
              "      <th>1</th>\n",
              "      <td>2</td>\n",
              "      <td>7</td>\n",
              "      <td>16</td>\n",
              "      <td>1977</td>\n",
              "      <td>3</td>\n",
              "      <td>NL</td>\n",
              "      <td>M</td>\n",
              "      <td>33.0</td>\n",
              "      <td>NaN</td>\n",
              "      <td>Neotoma</td>\n",
              "      <td>albigula</td>\n",
              "      <td>Rodent</td>\n",
              "    </tr>\n",
              "    <tr>\n",
              "      <th>2</th>\n",
              "      <td>3</td>\n",
              "      <td>7</td>\n",
              "      <td>16</td>\n",
              "      <td>1977</td>\n",
              "      <td>2</td>\n",
              "      <td>DM</td>\n",
              "      <td>F</td>\n",
              "      <td>37.0</td>\n",
              "      <td>NaN</td>\n",
              "      <td>Dipodomys</td>\n",
              "      <td>merriami</td>\n",
              "      <td>Rodent</td>\n",
              "    </tr>\n",
              "    <tr>\n",
              "      <th>3</th>\n",
              "      <td>4</td>\n",
              "      <td>7</td>\n",
              "      <td>16</td>\n",
              "      <td>1977</td>\n",
              "      <td>7</td>\n",
              "      <td>DM</td>\n",
              "      <td>M</td>\n",
              "      <td>36.0</td>\n",
              "      <td>NaN</td>\n",
              "      <td>Dipodomys</td>\n",
              "      <td>merriami</td>\n",
              "      <td>Rodent</td>\n",
              "    </tr>\n",
              "    <tr>\n",
              "      <th>4</th>\n",
              "      <td>5</td>\n",
              "      <td>7</td>\n",
              "      <td>16</td>\n",
              "      <td>1977</td>\n",
              "      <td>3</td>\n",
              "      <td>DM</td>\n",
              "      <td>M</td>\n",
              "      <td>35.0</td>\n",
              "      <td>NaN</td>\n",
              "      <td>Dipodomys</td>\n",
              "      <td>merriami</td>\n",
              "      <td>Rodent</td>\n",
              "    </tr>\n",
              "    <tr>\n",
              "      <th>5</th>\n",
              "      <td>8</td>\n",
              "      <td>7</td>\n",
              "      <td>16</td>\n",
              "      <td>1977</td>\n",
              "      <td>1</td>\n",
              "      <td>DM</td>\n",
              "      <td>M</td>\n",
              "      <td>37.0</td>\n",
              "      <td>NaN</td>\n",
              "      <td>Dipodomys</td>\n",
              "      <td>merriami</td>\n",
              "      <td>Rodent</td>\n",
              "    </tr>\n",
              "    <tr>\n",
              "      <th>6</th>\n",
              "      <td>9</td>\n",
              "      <td>7</td>\n",
              "      <td>16</td>\n",
              "      <td>1977</td>\n",
              "      <td>1</td>\n",
              "      <td>DM</td>\n",
              "      <td>F</td>\n",
              "      <td>34.0</td>\n",
              "      <td>NaN</td>\n",
              "      <td>Dipodomys</td>\n",
              "      <td>merriami</td>\n",
              "      <td>Rodent</td>\n",
              "    </tr>\n",
              "    <tr>\n",
              "      <th>7</th>\n",
              "      <td>7</td>\n",
              "      <td>7</td>\n",
              "      <td>16</td>\n",
              "      <td>1977</td>\n",
              "      <td>2</td>\n",
              "      <td>PE</td>\n",
              "      <td>F</td>\n",
              "      <td>NaN</td>\n",
              "      <td>NaN</td>\n",
              "      <td>Peromyscus</td>\n",
              "      <td>eremicus</td>\n",
              "      <td>Rodent</td>\n",
              "    </tr>\n",
              "  </tbody>\n",
              "</table>\n",
              "</div>\n",
              "      <button class=\"colab-df-convert\" onclick=\"convertToInteractive('df-051e855a-f70b-4370-ba87-834f46fe4ac3')\"\n",
              "              title=\"Convert this dataframe to an interactive table.\"\n",
              "              style=\"display:none;\">\n",
              "        \n",
              "  <svg xmlns=\"http://www.w3.org/2000/svg\" height=\"24px\"viewBox=\"0 0 24 24\"\n",
              "       width=\"24px\">\n",
              "    <path d=\"M0 0h24v24H0V0z\" fill=\"none\"/>\n",
              "    <path d=\"M18.56 5.44l.94 2.06.94-2.06 2.06-.94-2.06-.94-.94-2.06-.94 2.06-2.06.94zm-11 1L8.5 8.5l.94-2.06 2.06-.94-2.06-.94L8.5 2.5l-.94 2.06-2.06.94zm10 10l.94 2.06.94-2.06 2.06-.94-2.06-.94-.94-2.06-.94 2.06-2.06.94z\"/><path d=\"M17.41 7.96l-1.37-1.37c-.4-.4-.92-.59-1.43-.59-.52 0-1.04.2-1.43.59L10.3 9.45l-7.72 7.72c-.78.78-.78 2.05 0 2.83L4 21.41c.39.39.9.59 1.41.59.51 0 1.02-.2 1.41-.59l7.78-7.78 2.81-2.81c.8-.78.8-2.07 0-2.86zM5.41 20L4 18.59l7.72-7.72 1.47 1.35L5.41 20z\"/>\n",
              "  </svg>\n",
              "      </button>\n",
              "      \n",
              "  <style>\n",
              "    .colab-df-container {\n",
              "      display:flex;\n",
              "      flex-wrap:wrap;\n",
              "      gap: 12px;\n",
              "    }\n",
              "\n",
              "    .colab-df-convert {\n",
              "      background-color: #E8F0FE;\n",
              "      border: none;\n",
              "      border-radius: 50%;\n",
              "      cursor: pointer;\n",
              "      display: none;\n",
              "      fill: #1967D2;\n",
              "      height: 32px;\n",
              "      padding: 0 0 0 0;\n",
              "      width: 32px;\n",
              "    }\n",
              "\n",
              "    .colab-df-convert:hover {\n",
              "      background-color: #E2EBFA;\n",
              "      box-shadow: 0px 1px 2px rgba(60, 64, 67, 0.3), 0px 1px 3px 1px rgba(60, 64, 67, 0.15);\n",
              "      fill: #174EA6;\n",
              "    }\n",
              "\n",
              "    [theme=dark] .colab-df-convert {\n",
              "      background-color: #3B4455;\n",
              "      fill: #D2E3FC;\n",
              "    }\n",
              "\n",
              "    [theme=dark] .colab-df-convert:hover {\n",
              "      background-color: #434B5C;\n",
              "      box-shadow: 0px 1px 3px 1px rgba(0, 0, 0, 0.15);\n",
              "      filter: drop-shadow(0px 1px 2px rgba(0, 0, 0, 0.3));\n",
              "      fill: #FFFFFF;\n",
              "    }\n",
              "  </style>\n",
              "\n",
              "      <script>\n",
              "        const buttonEl =\n",
              "          document.querySelector('#df-051e855a-f70b-4370-ba87-834f46fe4ac3 button.colab-df-convert');\n",
              "        buttonEl.style.display =\n",
              "          google.colab.kernel.accessAllowed ? 'block' : 'none';\n",
              "\n",
              "        async function convertToInteractive(key) {\n",
              "          const element = document.querySelector('#df-051e855a-f70b-4370-ba87-834f46fe4ac3');\n",
              "          const dataTable =\n",
              "            await google.colab.kernel.invokeFunction('convertToInteractive',\n",
              "                                                     [key], {});\n",
              "          if (!dataTable) return;\n",
              "\n",
              "          const docLinkHtml = 'Like what you see? Visit the ' +\n",
              "            '<a target=\"_blank\" href=https://colab.research.google.com/notebooks/data_table.ipynb>data table notebook</a>'\n",
              "            + ' to learn more about interactive tables.';\n",
              "          element.innerHTML = '';\n",
              "          dataTable['output_type'] = 'display_data';\n",
              "          await google.colab.output.renderOutput(dataTable, element);\n",
              "          const docLink = document.createElement('div');\n",
              "          docLink.innerHTML = docLinkHtml;\n",
              "          element.appendChild(docLink);\n",
              "        }\n",
              "      </script>\n",
              "    </div>\n",
              "  </div>\n",
              "  "
            ]
          },
          "metadata": {},
          "execution_count": 18
        }
      ]
    },
    {
      "cell_type": "code",
      "source": [
        "#what about with left join?\n",
        "merged_left = pd.merge(left=survey_sub,right=species_sub, how='left', left_on='species_id', right_on='species_id')\n",
        "\n",
        "merged_left\n",
        "\n",
        "#what about the number of rows in the resultant dataframe?\n",
        "#is it different from inner join?\n"
      ],
      "metadata": {
        "id": "iLLYG5rsLhYa"
      },
      "execution_count": null,
      "outputs": []
    },
    {
      "cell_type": "markdown",
      "source": [
        " When we inspect merged_left, we find there are rows where the information that should have come from species_sub (i.e., species_id, genus, and taxa) is missing (they contain NaN values):"
      ],
      "metadata": {
        "id": "wcT054bFL970"
      }
    },
    {
      "cell_type": "code",
      "source": [
        "merged_left[ pd.isnull(merged_left.genus) ]\n"
      ],
      "metadata": {
        "id": "zzmxbgbeLzUD"
      },
      "execution_count": null,
      "outputs": []
    },
    {
      "cell_type": "markdown",
      "source": [
        "These rows are the ones where the value of species_id from survey_sub (in this case, PF) does not occur in species_sub.\n",
        "\n",
        "The pandas merge function supports two other join types:\n",
        "\n",
        "- Right (outer) join:\n",
        "  - Invoked by passing how='right' as an argument. \n",
        "  - Similar to a left join, except all rows from the right DataFrame are kept, while rows from the left DataFrame without matching join key(s) values are discarded.\n",
        "\n",
        "- Full (outer) join: \n",
        "  - Invoked by passing how='outer' as an argument. \n",
        "  - This join type returns the all pairwise combinations of rows from both DataFrames; i.e., the result DataFrame will NaN where data is missing in one of the dataframes. \n",
        "  - This join type is very rarely used.\n"
      ],
      "metadata": {
        "id": "hyD15tL-MCkC"
      }
    },
    {
      "cell_type": "markdown",
      "source": [
        "## Extra challenge\n",
        "Create a new DataFrame by joining the contents of the surveys.csv and speciesSubset.csv tables. Then calculate and plot the distribution of:\n",
        "\n",
        "1. taxa by plot\n",
        "2. taxa by sex by plot\n"
      ],
      "metadata": {
        "id": "dzNtrjVMMV4N"
      }
    }
  ]
}