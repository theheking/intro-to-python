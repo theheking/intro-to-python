{
  "nbformat": 4,
  "nbformat_minor": 0,
  "metadata": {
    "colab": {
      "provenance": [],
      "authorship_tag": "ABX9TyMffkwO7XPY8Yb9XVy5b+FL",
      "include_colab_link": true
    },
    "kernelspec": {
      "name": "python3",
      "display_name": "Python 3"
    },
    "language_info": {
      "name": "python"
    }
  },
  "cells": [
    {
      "cell_type": "markdown",
      "metadata": {
        "id": "view-in-github",
        "colab_type": "text"
      },
      "source": [
        "<a href=\"https://colab.research.google.com/github/theheking/intro-to-python/blob/gh-pages/1_Python_The_Basics.ipynb\" target=\"_parent\"><img src=\"https://colab.research.google.com/assets/colab-badge.svg\" alt=\"Open In Colab\"/></a>"
      ]
    },
    {
      "cell_type": "markdown",
      "source": [
        "# Fundamentals of Python\n",
        "\n",
        "# Objectives\n",
        "Assign value to variables\n",
        "\n",
        "Guido Van Rossum first created Python in 1991 with key aims:\n",
        "\n",
        "1. Good for day to day activities. Less development time.\n",
        "2. As simple and easy to understand as english\n",
        "3. Open source so that everyone can contirbute to the program\n",
        "\n",
        "# What are the advantages of using Python compared to other languages?\n",
        "\n",
        "## Advantages....\n",
        "- Open-source\n",
        "- Available for iOS, Windows and Linux\n",
        "- Designed for readability\n",
        "- Large supportive community\n",
        "- Third party packages! \n",
        "\n",
        "## Disadvantages....\n",
        "- Speed\n",
        "- High memory consumption\n",
        "- Low execution speed"
      ],
      "metadata": {
        "id": "K6jZDrWSei1K"
      }
    },
    {
      "cell_type": "code",
      "source": [
        "import sys\n",
        "print(sys.version)\n"
      ],
      "metadata": {
        "colab": {
          "base_uri": "https://localhost:8080/"
        },
        "id": "vg5LgNuSfGPB",
        "outputId": "638c51e1-11d7-41bb-cd9b-d92d3bc344b4"
      },
      "execution_count": null,
      "outputs": [
        {
          "output_type": "stream",
          "name": "stdout",
          "text": [
            "3.7.13 (default, Apr 24 2022, 01:04:09) \n",
            "[GCC 7.5.0]\n"
          ]
        }
      ]
    },
    {
      "cell_type": "markdown",
      "source": [
        "The designer of Python is Guido van Rossum!\n",
        "He used to be the BDFL which he retired from in 2018! Now 31 years later and on release 3.10.6"
      ],
      "metadata": {
        "id": "ZspmX_OhaWzc"
      }
    },
    {
      "cell_type": "markdown",
      "source": [
        "# Using interactive Python in Jupyter-style notebooks\n",
        "There are two methods to use python\n",
        "- interactive mode: similar to a scientific calculator, but you insert code into blocks within jupyter notebooks `.ipynb`. \n",
        "- scripting mode: save that same code into a file with the ending `.py`. "
      ],
      "metadata": {
        "id": "z5xEES0ABJ0p"
      }
    },
    {
      "cell_type": "code",
      "source": [
        "#print something in interactively in shell"
      ],
      "metadata": {
        "id": "1ez6kEjdPE_C"
      },
      "execution_count": null,
      "outputs": []
    },
    {
      "cell_type": "markdown",
      "source": [
        "#Some easy shortcuts to note\n",
        "\n",
        "Shift-Enter to run the contents of the cell\n",
        "\n",
        "You can add new cells by either \n",
        "a) hovering in between two boxes and selecting code. \n",
        "b) Insert then insert code cell\n",
        "\n",
        "NOTE: When the text on the left hand of the cell is: In [*] (with an asterisk rather than a number) --> cell is still running.\n",
        "\n",
        "Let's begin writing some code in our notebook.\n",
        "\n"
      ],
      "metadata": {
        "id": "YckDXXfXQtfu"
      }
    },
    {
      "cell_type": "code",
      "source": [
        "#assign a string to variable\n",
        "\n",
        "#print variable"
      ],
      "metadata": {
        "id": "CaUZgf3RPkFM",
        "colab": {
          "base_uri": "https://localhost:8080/"
        },
        "outputId": "ef53a04d-7f10-4e42-eff7-8e625b77e4e4"
      },
      "execution_count": null,
      "outputs": [
        {
          "output_type": "stream",
          "name": "stdout",
          "text": [
            "Garvan\n"
          ]
        }
      ]
    },
    {
      "cell_type": "markdown",
      "source": [
        "A hash tag (#) denotes a comment anything after that comment is ignored by the the python intepreter"
      ],
      "metadata": {
        "id": "gRYT9Zt5REjd"
      }
    },
    {
      "cell_type": "code",
      "source": [
        "#show a comment"
      ],
      "metadata": {
        "id": "VxHwGT-qRDtg",
        "colab": {
          "base_uri": "https://localhost:8080/"
        },
        "outputId": "5f79bc55-f917-457a-b32f-9af76d7caad0"
      },
      "execution_count": null,
      "outputs": [
        {
          "output_type": "stream",
          "name": "stdout",
          "text": [
            "Garvan\n"
          ]
        }
      ]
    },
    {
      "cell_type": "markdown",
      "source": [
        "# Variables and data types"
      ],
      "metadata": {
        "id": "wfk81IM0NlfC"
      }
    },
    {
      "cell_type": "markdown",
      "source": [
        "## Integers, floats and strings\n",
        "Of the 'Numeric' types. There are two key types integer and floats.\n",
        "\n",
        "Other (slightly less important types include `hex` for hexadecamil and `complex` for complex numbers!\n",
        "\n"
      ],
      "metadata": {
        "id": "1xmve48CNq9j"
      }
    },
    {
      "cell_type": "code",
      "source": [
        " #assign number to variable\n",
        "\n",
        " #print variable\n"
      ],
      "metadata": {
        "id": "radunqHzRLss",
        "colab": {
          "base_uri": "https://localhost:8080/"
        },
        "outputId": "0d43de4b-2d27-4006-9d34-bb046609ffbc"
      },
      "execution_count": null,
      "outputs": [
        {
          "output_type": "stream",
          "name": "stdout",
          "text": [
            "1\n"
          ]
        }
      ]
    },
    {
      "cell_type": "code",
      "source": [
        "#check type of variable\n"
      ],
      "metadata": {
        "id": "RmaZOpLRRNCG",
        "colab": {
          "base_uri": "https://localhost:8080/"
        },
        "outputId": "95124bea-3777-4a04-a85c-4fdbf2674a0e"
      },
      "execution_count": null,
      "outputs": [
        {
          "output_type": "execute_result",
          "data": {
            "text/plain": [
              "int"
            ]
          },
          "metadata": {},
          "execution_count": 18
        }
      ]
    },
    {
      "cell_type": "code",
      "source": [
        "#assign a decimal to variable\n",
        "\n"
      ],
      "metadata": {
        "id": "F1yf2YKPRPqn"
      },
      "execution_count": null,
      "outputs": []
    },
    {
      "cell_type": "code",
      "source": [
        "#check type of variable\n"
      ],
      "metadata": {
        "id": "peedsFc7RS7s",
        "colab": {
          "base_uri": "https://localhost:8080/"
        },
        "outputId": "2d543b40-aaa4-41f5-bb62-1bd49be7fb1a"
      },
      "execution_count": null,
      "outputs": [
        {
          "output_type": "execute_result",
          "data": {
            "text/plain": [
              "float"
            ]
          },
          "metadata": {},
          "execution_count": 21
        }
      ]
    },
    {
      "cell_type": "markdown",
      "source": [
        "5 min into groups \n",
        "### Poll Time \n",
        "#### Your vote counts!!!! 🗳️ \n",
        "\n",
        "What is the <b>type</b> of the variable letters defined below ?\n",
        "\n",
        "letters = \"ABACBS\"\n"
      ],
      "metadata": {
        "id": "tUz1brdPN6cu"
      }
    },
    {
      "cell_type": "markdown",
      "source": [
        "## Strings\n",
        "`str` stands for \"string\". These hold sequences of characters. Characters are not limited to letts but, also numbers, punctuation and emojiis!"
      ],
      "metadata": {
        "id": "LrNrEqbpOz9V"
      }
    },
    {
      "cell_type": "code",
      "source": [
        "#create a variable of characters"
      ],
      "metadata": {
        "id": "nohUxGSYVpLZ"
      },
      "execution_count": null,
      "outputs": []
    },
    {
      "cell_type": "code",
      "source": [
        "#print the string"
      ],
      "metadata": {
        "id": "vSh0q8ZnVxmf",
        "colab": {
          "base_uri": "https://localhost:8080/"
        },
        "outputId": "5add8262-6896-4b6e-cd33-81ef5736fd0a"
      },
      "execution_count": null,
      "outputs": [
        {
          "output_type": "stream",
          "name": "stdout",
          "text": [
            "Python strings are UTF-8 <3 \n"
          ]
        }
      ]
    },
    {
      "cell_type": "code",
      "source": [
        "#what type is it"
      ],
      "metadata": {
        "id": "hXcXZkQXVx7n",
        "colab": {
          "base_uri": "https://localhost:8080/"
        },
        "outputId": "66ac56ee-69c5-4d78-bcb7-5ca0bf0199ef"
      },
      "execution_count": null,
      "outputs": [
        {
          "output_type": "execute_result",
          "data": {
            "text/plain": [
              "str"
            ]
          },
          "metadata": {},
          "execution_count": 24
        }
      ]
    },
    {
      "cell_type": "markdown",
      "source": [
        "# Operators "
      ],
      "metadata": {
        "id": "qvyoV-UHO1an"
      }
    },
    {
      "cell_type": "markdown",
      "source": [
        "We can perform mathematical calculations in Python using the basic operators such as: \n",
        "\n",
        "##### + - * / % **\n"
      ],
      "metadata": {
        "id": "KxWZH-b7V26j"
      }
    },
    {
      "cell_type": "code",
      "source": [
        "#addition"
      ],
      "metadata": {
        "id": "nzMrjQqeZVXW",
        "colab": {
          "base_uri": "https://localhost:8080/"
        },
        "outputId": "01835ff4-24a9-4cec-b595-07c5fe99ff54"
      },
      "execution_count": null,
      "outputs": [
        {
          "output_type": "execute_result",
          "data": {
            "text/plain": [
              "4"
            ]
          },
          "metadata": {},
          "execution_count": 25
        }
      ]
    },
    {
      "cell_type": "code",
      "source": [
        "#multiplication "
      ],
      "metadata": {
        "id": "s1S0cXJAbgBg",
        "colab": {
          "base_uri": "https://localhost:8080/"
        },
        "outputId": "06c43936-052f-4df1-cb38-5fe1e942252d"
      },
      "execution_count": null,
      "outputs": [
        {
          "output_type": "execute_result",
          "data": {
            "text/plain": [
              "870"
            ]
          },
          "metadata": {},
          "execution_count": 26
        }
      ]
    },
    {
      "cell_type": "code",
      "source": [
        "#power"
      ],
      "metadata": {
        "id": "Tp7TVhC-bhWq",
        "colab": {
          "base_uri": "https://localhost:8080/"
        },
        "outputId": "3395dffb-7baf-4543-df20-5f6b9248c598"
      },
      "execution_count": null,
      "outputs": [
        {
          "output_type": "execute_result",
          "data": {
            "text/plain": [
              "34514353004048826885504379648003866504545218716100012512887166177026352534370841541962887882501289866325841638561707331766897031691050608333957460427033539970294439535876702952471732553659998595663644745155016713628313452425984909782081990174307591624993749579100130456318398090982815078162452007632470130691334908608531591427734030915851830575474874482280253468219207395528369339077139237178924637556985496275398612686731128467281887462316631160226001821395479523833586086502488859219359045000405140507016244667252934364031433606290733177233518426837335038979332193267723253000815065275439846928505916844052298665056194386833699440777271073682443908318576459257064547325048882423449738412777426102675653869436928"
            ]
          },
          "metadata": {},
          "execution_count": 27
        }
      ]
    },
    {
      "cell_type": "code",
      "source": [
        "#modulo (finds the remainder) using %"
      ],
      "metadata": {
        "id": "fVP5CtH8V2CF",
        "colab": {
          "base_uri": "https://localhost:8080/"
        },
        "outputId": "9cf542a0-9968-41ae-8326-c95113f3a2f2"
      },
      "execution_count": null,
      "outputs": [
        {
          "output_type": "execute_result",
          "data": {
            "text/plain": [
              "1"
            ]
          },
          "metadata": {},
          "execution_count": 29
        }
      ]
    },
    {
      "cell_type": "code",
      "source": [
        "# int + int = ? & what type \n"
      ],
      "metadata": {
        "id": "aDqq2EjZWQS6",
        "colab": {
          "base_uri": "https://localhost:8080/"
        },
        "outputId": "4a890887-8d67-4f01-eff9-95fd6bacd195"
      },
      "execution_count": null,
      "outputs": [
        {
          "output_type": "stream",
          "name": "stdout",
          "text": [
            "9\n"
          ]
        },
        {
          "output_type": "execute_result",
          "data": {
            "text/plain": [
              "int"
            ]
          },
          "metadata": {},
          "execution_count": 32
        }
      ]
    },
    {
      "cell_type": "code",
      "source": [
        "# int + float = ? & what type "
      ],
      "metadata": {
        "id": "4JJvEUBwWQvE",
        "colab": {
          "base_uri": "https://localhost:8080/"
        },
        "outputId": "6efc7c20-bd8b-4a7b-8258-802564f1ba79"
      },
      "execution_count": null,
      "outputs": [
        {
          "output_type": "stream",
          "name": "stdout",
          "text": [
            "6.2\n"
          ]
        },
        {
          "output_type": "execute_result",
          "data": {
            "text/plain": [
              "float"
            ]
          },
          "metadata": {},
          "execution_count": 34
        }
      ]
    },
    {
      "cell_type": "code",
      "source": [
        "# int + str = ? & what type "
      ],
      "metadata": {
        "id": "ksRBZ5MgWwK8",
        "colab": {
          "base_uri": "https://localhost:8080/"
        },
        "outputId": "db36fe6d-1e95-4a38-b871-46ba7720182b"
      },
      "execution_count": null,
      "outputs": [
        {
          "output_type": "stream",
          "name": "stdout",
          "text": [
            "barbie1\n"
          ]
        }
      ]
    },
    {
      "cell_type": "code",
      "source": [
        "#str(int) + str =?"
      ],
      "metadata": {
        "id": "IYxP1ySCWyF3",
        "colab": {
          "base_uri": "https://localhost:8080/",
          "height": 36
        },
        "outputId": "7bac68d6-8ab9-4ce5-a762-29e9a7c66268"
      },
      "execution_count": null,
      "outputs": [
        {
          "output_type": "execute_result",
          "data": {
            "text/plain": [
              "'4ken'"
            ],
            "application/vnd.google.colaboratory.intrinsic+json": {
              "type": "string"
            }
          },
          "metadata": {},
          "execution_count": 6
        }
      ]
    },
    {
      "cell_type": "code",
      "source": [
        "# demonstrate int += 1"
      ],
      "metadata": {
        "id": "fpdi2x8wW6-c",
        "colab": {
          "base_uri": "https://localhost:8080/"
        },
        "outputId": "c2155555-1ea3-40c3-bba6-7586cd3770b2"
      },
      "execution_count": null,
      "outputs": [
        {
          "output_type": "stream",
          "name": "stdout",
          "text": [
            "5\n"
          ]
        }
      ]
    },
    {
      "cell_type": "markdown",
      "source": [
        "## Boolean operators\n",
        "Boolean logic means your result can one of two values, True or False. \n",
        "\n",
        "We can also use comparison and logic operators: <b> <, >, ==, !=, <=, >=  </b> and statements of identity such as <b> and, or, and not. </b> These will evaluate the two values and output True and False."
      ],
      "metadata": {
        "id": "uEhNgzLOO6Yx"
      }
    },
    {
      "cell_type": "code",
      "source": [
        " # show that the string t-cell does not equal b-cell"
      ],
      "metadata": {
        "id": "FCNqcHhHW9sF",
        "colab": {
          "base_uri": "https://localhost:8080/"
        },
        "outputId": "7c136440-28d1-46c2-bfe2-7e53c9faab72"
      },
      "execution_count": null,
      "outputs": [
        {
          "output_type": "execute_result",
          "data": {
            "text/plain": [
              "True"
            ]
          },
          "metadata": {},
          "execution_count": 49
        }
      ]
    },
    {
      "cell_type": "code",
      "source": [
        "# show that "
      ],
      "metadata": {
        "id": "TFEJqFFaXMK7"
      },
      "execution_count": null,
      "outputs": []
    },
    {
      "cell_type": "markdown",
      "source": [
        "# Lists and sequence types\n"
      ],
      "metadata": {
        "id": "eoy_8rK6NwWl"
      }
    },
    {
      "cell_type": "markdown",
      "source": [
        "## Lists\n",
        "Lists are a compound data type made up of smaller parts. \n"
      ],
      "metadata": {
        "id": "k8dXZrS_NxYf"
      }
    },
    {
      "cell_type": "code",
      "source": [
        " #form a list of numbers"
      ],
      "metadata": {
        "id": "UrXhfLZbZNM8"
      },
      "execution_count": null,
      "outputs": []
    },
    {
      "cell_type": "code",
      "source": [
        "#find the length of that list "
      ],
      "metadata": {
        "id": "GrmnqunbZPrj",
        "colab": {
          "base_uri": "https://localhost:8080/"
        },
        "outputId": "e1fa2a5b-c107-4d5e-9d69-1e5c14b88ab2"
      },
      "execution_count": null,
      "outputs": [
        {
          "output_type": "execute_result",
          "data": {
            "text/plain": [
              "3"
            ]
          },
          "metadata": {},
          "execution_count": 59
        }
      ]
    },
    {
      "cell_type": "code",
      "source": [
        "#lists can contain multiple data types e.g. cats\n",
        "\n",
        "#write a mixed list including a list with a list"
      ],
      "metadata": {
        "id": "yPI1UW0dbr8z",
        "colab": {
          "base_uri": "https://localhost:8080/"
        },
        "outputId": "56d28e39-36b2-48e3-ecdf-9f788e83fbc0"
      },
      "execution_count": null,
      "outputs": [
        {
          "output_type": "execute_result",
          "data": {
            "text/plain": [
              "3"
            ]
          },
          "metadata": {},
          "execution_count": 61
        }
      ]
    },
    {
      "cell_type": "code",
      "source": [
        "#subset the a value from the list"
      ],
      "metadata": {
        "id": "9oTHoLrZb1mi",
        "colab": {
          "base_uri": "https://localhost:8080/"
        },
        "outputId": "c24627e4-34ba-4a95-a6f1-2276e54bd340"
      },
      "execution_count": null,
      "outputs": [
        {
          "output_type": "execute_result",
          "data": {
            "text/plain": [
              "5"
            ]
          },
          "metadata": {},
          "execution_count": 62
        }
      ]
    },
    {
      "cell_type": "code",
      "source": [
        "#subset the first value from the list"
      ],
      "metadata": {
        "id": "Q7HMhuP_b4XW",
        "colab": {
          "base_uri": "https://localhost:8080/",
          "height": 35
        },
        "outputId": "77383c97-4b01-4bcc-a28c-f5d3eab1dfaf"
      },
      "execution_count": null,
      "outputs": [
        {
          "output_type": "execute_result",
          "data": {
            "text/plain": [
              "'Persian'"
            ],
            "application/vnd.google.colaboratory.intrinsic+json": {
              "type": "string"
            }
          },
          "metadata": {},
          "execution_count": 63
        }
      ]
    },
    {
      "cell_type": "code",
      "source": [
        "#assign a new value to any position on the list"
      ],
      "metadata": {
        "id": "ZVKGxmmBcBzB"
      },
      "execution_count": null,
      "outputs": []
    },
    {
      "cell_type": "code",
      "source": [
        "#print  the new list"
      ],
      "metadata": {
        "id": "FB1OkzkTcIfa",
        "colab": {
          "base_uri": "https://localhost:8080/"
        },
        "outputId": "88a01a34-8566-426e-a94c-3910bba2acdb"
      },
      "execution_count": null,
      "outputs": [
        {
          "output_type": "stream",
          "name": "stdout",
          "text": [
            "['Siamese', 5, [6, 4.3, 5]]\n"
          ]
        }
      ]
    },
    {
      "cell_type": "code",
      "source": [
        "#append an item to the end of the list\n",
        "\n",
        "#print off the new list"
      ],
      "metadata": {
        "id": "9nHzKlzZcKs0"
      },
      "execution_count": null,
      "outputs": []
    },
    {
      "cell_type": "code",
      "source": [
        "# add multiple items to the end of a list with extend and another list\n",
        "\n",
        "#check the new length"
      ],
      "metadata": {
        "id": "TwUe0bQNcOFf"
      },
      "execution_count": null,
      "outputs": []
    },
    {
      "cell_type": "code",
      "source": [
        "#assign a list of dog breeds to variable \n",
        "\n",
        "#print the third entry in the list of dogs\n"
      ],
      "metadata": {
        "colab": {
          "base_uri": "https://localhost:8080/"
        },
        "id": "C6YL8ckR0ZoM",
        "outputId": "86aca6ec-b7cc-452d-8b10-80ed12bb2342"
      },
      "execution_count": null,
      "outputs": [
        {
          "output_type": "stream",
          "name": "stdout",
          "text": [
            "chihauha\n",
            "scottish_terrier\n"
          ]
        }
      ]
    },
    {
      "cell_type": "code",
      "source": [
        "#assign a list of animals to variable list_of_safari\n",
        "\n",
        "#print the first entry in the list\n",
        "\n",
        "#change the second entry in the list and print it\n"
      ],
      "metadata": {
        "colab": {
          "base_uri": "https://localhost:8080/"
        },
        "id": "kZcQkTIZ3m9l",
        "outputId": "ee68a71b-2c11-42d6-8e56-07149d43f94d"
      },
      "execution_count": null,
      "outputs": [
        {
          "output_type": "stream",
          "name": "stdout",
          "text": [
            "elephant\n",
            "scottish_terrier\n"
          ]
        }
      ]
    },
    {
      "cell_type": "code",
      "source": [
        "#you can also access the values from a negative index \n",
        "#for example list_of_safari can be accessed [-3] --> [-1]\n",
        "\n",
        "#print of the second to last entry in the list\n"
      ],
      "metadata": {
        "colab": {
          "base_uri": "https://localhost:8080/"
        },
        "id": "XtT0VhgQ-jQq",
        "outputId": "9bdc0a76-2ee0-4526-f586-324e151d115c"
      },
      "execution_count": null,
      "outputs": [
        {
          "output_type": "stream",
          "name": "stdout",
          "text": [
            "scottish_terrier\n"
          ]
        }
      ]
    },
    {
      "cell_type": "markdown",
      "source": [
        "## Loops "
      ],
      "metadata": {
        "id": "puoowQLSPOBI"
      }
    },
    {
      "cell_type": "markdown",
      "source": [
        "A for loop can be used to access the elements in a list or other Python data structure one at a time. We will learn about loops in another lesson.\n",
        "\n",
        "Indentation is very important in Python. Note that the second line in the example above is indented, indicating the code that is the body of the loop.\n",
        "\n",
        "\n"
      ],
      "metadata": {
        "id": "TBoJxiBtcYLG"
      }
    },
    {
      "cell_type": "code",
      "source": [
        "list_of_numbers=[6,4,5]\n",
        "for num in list_of_numbers:\n",
        "  print(num)"
      ],
      "metadata": {
        "id": "tTq5oNiFcU0w",
        "colab": {
          "base_uri": "https://localhost:8080/"
        },
        "outputId": "3848091c-f172-4cff-fc32-d12d20b487d5"
      },
      "execution_count": null,
      "outputs": [
        {
          "output_type": "stream",
          "name": "stdout",
          "text": [
            "6\n",
            "4\n",
            "5\n"
          ]
        }
      ]
    },
    {
      "cell_type": "markdown",
      "source": [
        "\n",
        "To find out what methods are available for an object, we can use the built-in help command:\n",
        "\n"
      ],
      "metadata": {
        "id": "Tf9gHOrwce2s"
      }
    },
    {
      "cell_type": "code",
      "source": [
        "#help of list\n",
        "help(list_of_numbers)"
      ],
      "metadata": {
        "id": "sm--S9IGAWkU"
      },
      "execution_count": null,
      "outputs": []
    },
    {
      "cell_type": "markdown",
      "source": [
        "## Tuples"
      ],
      "metadata": {
        "id": "FI0U4jefPQa-"
      }
    },
    {
      "cell_type": "markdown",
      "source": [
        "A tuple is similar to a list in that it's an ordered sequence of elements. However, tuples can not be changed once created (they are \"immutable\"). Tuples are created by placing comma-separated values inside parentheses ().\n",
        "\n"
      ],
      "metadata": {
        "id": "P1nQMflKcv-1"
      }
    },
    {
      "cell_type": "code",
      "source": [
        "# create a new tuple e.g. tuples_are_immutable = (\"bar\", 100, 200, \"foo\")\n"
      ],
      "metadata": {
        "id": "Af3sx41Jct5f"
      },
      "execution_count": null,
      "outputs": []
    },
    {
      "cell_type": "code",
      "source": [
        "#print one element of tuple"
      ],
      "metadata": {
        "id": "_xpBUGdudTpb",
        "colab": {
          "base_uri": "https://localhost:8080/"
        },
        "outputId": "6b8e5da9-a97f-4ca5-db1c-9f5f3541ecb5"
      },
      "execution_count": null,
      "outputs": [
        {
          "output_type": "stream",
          "name": "stdout",
          "text": [
            "help\n"
          ]
        }
      ]
    },
    {
      "cell_type": "code",
      "source": [
        "#reassign a different value to element of a tuple"
      ],
      "metadata": {
        "id": "9TxahFfrdTax",
        "colab": {
          "base_uri": "https://localhost:8080/",
          "height": 183
        },
        "outputId": "cee22164-6586-43a8-9e15-17cbd7ae5a57"
      },
      "execution_count": null,
      "outputs": [
        {
          "output_type": "error",
          "ename": "TypeError",
          "evalue": "ignored",
          "traceback": [
            "\u001b[0;31m---------------------------------------------------------------------------\u001b[0m",
            "\u001b[0;31mTypeError\u001b[0m                                 Traceback (most recent call last)",
            "\u001b[0;32m<ipython-input-92-d05b5a7a7b59>\u001b[0m in \u001b[0;36m<module>\u001b[0;34m\u001b[0m\n\u001b[1;32m      1\u001b[0m \u001b[0;31m#reassign a different value to element of a tuple\u001b[0m\u001b[0;34m\u001b[0m\u001b[0;34m\u001b[0m\u001b[0;34m\u001b[0m\u001b[0m\n\u001b[0;32m----> 2\u001b[0;31m \u001b[0mtuples_example\u001b[0m\u001b[0;34m[\u001b[0m\u001b[0;36m3\u001b[0m\u001b[0;34m]\u001b[0m\u001b[0;34m=\u001b[0m\u001b[0;34m\"hello\"\u001b[0m\u001b[0;34m\u001b[0m\u001b[0;34m\u001b[0m\u001b[0m\n\u001b[0m",
            "\u001b[0;31mTypeError\u001b[0m: 'tuple' object does not support item assignment"
          ]
        }
      ]
    },
    {
      "cell_type": "markdown",
      "source": [
        "## Dictionary\n",
        "\n",
        "Dictionaries are a container that store key-value pairs. They are unordered.\n",
        "\n",
        "The `items` method returns a sequence of the key-value pairs as tuples. `values` returns a sequence of just the values. `keys` reutrns a sequence of just the keys.\n",
        "\n",
        "\n"
      ],
      "metadata": {
        "id": "1LM_XFaQPSgi"
      }
    },
    {
      "cell_type": "code",
      "source": [
        "#form a new dictionary e.g. dogma = {'DNA': 1, 'RNA': 2, 'Protein': 3, 'key':5}\n"
      ],
      "metadata": {
        "id": "_Iun9Frrcuda",
        "colab": {
          "base_uri": "https://localhost:8080/"
        },
        "outputId": "4afde220-0bbf-442d-f934-db17f40b9da1"
      },
      "execution_count": null,
      "outputs": [
        {
          "output_type": "execute_result",
          "data": {
            "text/plain": [
              "{'DNA': 1, 'RNA': 2, 'Protein': 3, 'key': 5}"
            ]
          },
          "metadata": {},
          "execution_count": 101
        }
      ]
    },
    {
      "cell_type": "code",
      "source": [
        "#print the value of the dictionary using the key DNA"
      ],
      "metadata": {
        "id": "0_qSvnr-fNE-",
        "colab": {
          "base_uri": "https://localhost:8080/"
        },
        "outputId": "e4b8fb3d-2d44-4b1e-fd25-744c9195151d"
      },
      "execution_count": null,
      "outputs": [
        {
          "output_type": "execute_result",
          "data": {
            "text/plain": [
              "1"
            ]
          },
          "metadata": {},
          "execution_count": 102
        }
      ]
    },
    {
      "cell_type": "code",
      "source": [
        "#reassign the value of RNA in the dictionary"
      ],
      "metadata": {
        "id": "YlVIvMx1fVUm"
      },
      "execution_count": null,
      "outputs": []
    },
    {
      "cell_type": "code",
      "source": [
        "#print the values only"
      ],
      "metadata": {
        "id": "FAEm4H-Yfzk1",
        "colab": {
          "base_uri": "https://localhost:8080/"
        },
        "outputId": "47038cf2-1269-443e-e9c1-d91ef500787a"
      },
      "execution_count": null,
      "outputs": [
        {
          "output_type": "stream",
          "name": "stdout",
          "text": [
            "dict_values([1, 2, 3, 5])\n"
          ]
        }
      ]
    },
    {
      "cell_type": "code",
      "source": [
        "#print the items in the list"
      ],
      "metadata": {
        "colab": {
          "base_uri": "https://localhost:8080/"
        },
        "id": "ocrNj0XH6D6a",
        "outputId": "6c84664a-a8c1-4101-b17e-cfc971f2b002"
      },
      "execution_count": null,
      "outputs": [
        {
          "output_type": "execute_result",
          "data": {
            "text/plain": [
              "dict_items([('DNA', 1), ('RNA', 2), ('Protein', 3), ('key', 5)])"
            ]
          },
          "metadata": {},
          "execution_count": 4
        }
      ]
    },
    {
      "cell_type": "code",
      "source": [
        "#print the keys only"
      ],
      "metadata": {
        "id": "0RTunIJaf2XO",
        "colab": {
          "base_uri": "https://localhost:8080/"
        },
        "outputId": "d7f29321-cdee-47ea-9bc0-a4a2bda8adac"
      },
      "execution_count": null,
      "outputs": [
        {
          "output_type": "execute_result",
          "data": {
            "text/plain": [
              "dict_keys(['DNA', 'RNA', 'Protein', 'key'])"
            ]
          },
          "metadata": {},
          "execution_count": 104
        }
      ]
    },
    {
      "cell_type": "code",
      "source": [
        "#get the length of the dictionary"
      ],
      "metadata": {
        "id": "NB4DlLTff52K",
        "colab": {
          "base_uri": "https://localhost:8080/"
        },
        "outputId": "03b18d99-6a1f-43fc-8e0a-7c0aa0ceaf7a"
      },
      "execution_count": null,
      "outputs": [
        {
          "output_type": "execute_result",
          "data": {
            "text/plain": [
              "4"
            ]
          },
          "metadata": {},
          "execution_count": 106
        }
      ]
    },
    {
      "cell_type": "code",
      "source": [
        "# create a layered dictionary e.g. dict_of_dicts = {'first': {1:2, 2: 4, 4: 8, 8: 16}, 'second': {'a': 2.2, 'b': 4.4}}"
      ],
      "metadata": {
        "id": "hmnGn9Wnf9Vq",
        "colab": {
          "base_uri": "https://localhost:8080/"
        },
        "outputId": "8cb07ac8-fbcb-4b27-e302-44043a0b9f1f"
      },
      "execution_count": null,
      "outputs": [
        {
          "output_type": "execute_result",
          "data": {
            "text/plain": [
              "{'first': {1: 2, 2: 4, 4: 8, 8: 16}, 'second': {'a': 2.2, 'b': 4.4}}"
            ]
          },
          "metadata": {},
          "execution_count": 107
        }
      ]
    },
    {
      "cell_type": "markdown",
      "source": [
        "5 min into groups\n",
        "\n",
        "Poll Time\n",
        "Your vote counts!!!! 🗳️\n",
        " \n",
        "jam_ratings = {'Plum': 6, 'Apricot': 2, 'Strawberry': 8}\n",
        "\n",
        "\n",
        "How would you change the value associated with the key Apricot to 9.\n",
        "\n",
        "- jam_ratings = {'apricot': 9}\n",
        "- jam_ratings[9] = 'Apricot'\n",
        "- jam_ratings['Apricot'] = 9\n",
        "- jam_ratings[2] = 'Apricot'"
      ],
      "metadata": {
        "id": "orfpWoUQgFvH"
      }
    }
  ]
}