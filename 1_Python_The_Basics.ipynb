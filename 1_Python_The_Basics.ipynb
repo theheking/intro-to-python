{
  "nbformat": 4,
  "nbformat_minor": 0,
  "metadata": {
    "colab": {
      "provenance": [],
      "authorship_tag": "ABX9TyMgczcDfq/gwXgQw0g52oWK",
      "include_colab_link": true
    },
    "kernelspec": {
      "name": "python3",
      "display_name": "Python 3"
    },
    "language_info": {
      "name": "python"
    }
  },
  "cells": [
    {
      "cell_type": "markdown",
      "metadata": {
        "id": "view-in-github",
        "colab_type": "text"
      },
      "source": [
        "<a href=\"https://colab.research.google.com/github/theheking/intro-to-python/blob/gh-pages/Python_The_Basics.ipynb\" target=\"_parent\"><img src=\"https://colab.research.google.com/assets/colab-badge.svg\" alt=\"Open In Colab\"/></a>"
      ]
    },
    {
      "cell_type": "markdown",
      "source": [
        "# Background\n",
        "\n",
        "## Advantages....\n",
        "- Open source software\n",
        "- Available for iOS, Windows and Linux\n",
        "- Designed for readability\n",
        "- Can be function and object orientated\n",
        "- Large community with third party packages"
      ],
      "metadata": {
        "id": "K6jZDrWSei1K"
      }
    },
    {
      "cell_type": "code",
      "source": [
        "import sys\n",
        "print(sys.version)\n"
      ],
      "metadata": {
        "colab": {
          "base_uri": "https://localhost:8080/"
        },
        "id": "vg5LgNuSfGPB",
        "outputId": "638c51e1-11d7-41bb-cd9b-d92d3bc344b4"
      },
      "execution_count": null,
      "outputs": [
        {
          "output_type": "stream",
          "name": "stdout",
          "text": [
            "3.7.13 (default, Apr 24 2022, 01:04:09) \n",
            "[GCC 7.5.0]\n"
          ]
        }
      ]
    },
    {
      "cell_type": "markdown",
      "source": [
        "The designer of Python is Guido van Rossum!\n",
        "He used to be the BDFL which he retired from in 2018! Now 31 years later and on release 3.10.6"
      ],
      "metadata": {
        "id": "ZspmX_OhaWzc"
      }
    },
    {
      "cell_type": "markdown",
      "source": [
        "# Intepreter\n",
        "-  interactive mode\n",
        "- scripting mode"
      ],
      "metadata": {
        "id": "z5xEES0ABJ0p"
      }
    },
    {
      "cell_type": "code",
      "source": [
        "#what mode are we using now \n",
        "#show example if you were to use as a script"
      ],
      "metadata": {
        "id": "Ai2u9oQgBMXa"
      },
      "execution_count": null,
      "outputs": []
    },
    {
      "cell_type": "markdown",
      "source": [
        "# Using interactive Python in Jupyter-style notebooks\n"
      ],
      "metadata": {
        "id": "od0WBHAVNi0-"
      }
    },
    {
      "cell_type": "code",
      "source": [
        "print(\"Python is cool!\")"
      ],
      "metadata": {
        "id": "1ez6kEjdPE_C"
      },
      "execution_count": null,
      "outputs": []
    },
    {
      "cell_type": "code",
      "source": [
        "print(\"Python is cool\")"
      ],
      "metadata": {
        "colab": {
          "base_uri": "https://localhost:8080/"
        },
        "id": "MbYgUY-9qqD0",
        "outputId": "7dc62e10-5958-4c72-c547-dd81ec081851"
      },
      "execution_count": null,
      "outputs": [
        {
          "output_type": "stream",
          "name": "stdout",
          "text": [
            "Python is cool\n"
          ]
        }
      ]
    },
    {
      "cell_type": "code",
      "source": [
        "print(\"Python is rad\")"
      ],
      "metadata": {
        "colab": {
          "base_uri": "https://localhost:8080/"
        },
        "id": "KYm-k843q8Sg",
        "outputId": "830b637f-4d0b-449b-8d9c-cb84c36c975f"
      },
      "execution_count": null,
      "outputs": [
        {
          "output_type": "stream",
          "name": "stdout",
          "text": [
            "Python is rad\n"
          ]
        }
      ]
    },
    {
      "cell_type": "code",
      "source": [],
      "metadata": {
        "id": "8YQDj1x0rHx3"
      },
      "execution_count": null,
      "outputs": []
    },
    {
      "cell_type": "markdown",
      "source": [
        "Shift-Enter to run the contents of the cell\n",
        "\n",
        "You can add new cells.\n",
        "\n",
        "NOTE: When the text on the left hand of the cell is: In [*] (with an asterisk rather than a number) --> cell is still running.\n",
        "\n",
        "Let's begin writing some code in our notebook.\n",
        "\n"
      ],
      "metadata": {
        "id": "YckDXXfXQtfu"
      }
    },
    {
      "cell_type": "code",
      "source": [
        "#assign a string to variable\n",
        "name = \"Helen\"\n",
        "#print variable\n",
        "print(name)"
      ],
      "metadata": {
        "id": "CaUZgf3RPkFM",
        "colab": {
          "base_uri": "https://localhost:8080/"
        },
        "outputId": "b44d33a2-1e31-4c21-ad73-1b33c9a121a1"
      },
      "execution_count": null,
      "outputs": [
        {
          "output_type": "stream",
          "name": "stdout",
          "text": [
            "Helen\n"
          ]
        }
      ]
    },
    {
      "cell_type": "markdown",
      "source": [
        "A hash tag denotes a comment"
      ],
      "metadata": {
        "id": "gRYT9Zt5REjd"
      }
    },
    {
      "cell_type": "code",
      "source": [
        "#print(name)\n",
        "print(name) #step 1 \n",
        "#step 2 \n",
        "#step 3"
      ],
      "metadata": {
        "id": "VxHwGT-qRDtg",
        "colab": {
          "base_uri": "https://localhost:8080/"
        },
        "outputId": "bf10e632-4beb-4626-c65a-0ad631c1a112"
      },
      "execution_count": null,
      "outputs": [
        {
          "output_type": "stream",
          "name": "stdout",
          "text": [
            "Helen\n"
          ]
        }
      ]
    },
    {
      "cell_type": "markdown",
      "source": [
        "# Variables and data types"
      ],
      "metadata": {
        "id": "wfk81IM0NlfC"
      }
    },
    {
      "cell_type": "markdown",
      "source": [
        "## Integers, floats and strings\n"
      ],
      "metadata": {
        "id": "1xmve48CNq9j"
      }
    },
    {
      "cell_type": "code",
      "source": [
        " #assign number to variable\n",
        " tyrone = 1\n",
        " print(tyrone)"
      ],
      "metadata": {
        "id": "radunqHzRLss",
        "colab": {
          "base_uri": "https://localhost:8080/"
        },
        "outputId": "0d43de4b-2d27-4006-9d34-bb046609ffbc"
      },
      "execution_count": null,
      "outputs": [
        {
          "output_type": "stream",
          "name": "stdout",
          "text": [
            "1\n"
          ]
        }
      ]
    },
    {
      "cell_type": "code",
      "source": [
        "#what type is it \n",
        "type(tyrone)"
      ],
      "metadata": {
        "id": "RmaZOpLRRNCG",
        "colab": {
          "base_uri": "https://localhost:8080/"
        },
        "outputId": "95124bea-3777-4a04-a85c-4fdbf2674a0e"
      },
      "execution_count": null,
      "outputs": [
        {
          "output_type": "execute_result",
          "data": {
            "text/plain": [
              "int"
            ]
          },
          "metadata": {},
          "execution_count": 18
        }
      ]
    },
    {
      "cell_type": "code",
      "source": [
        "#assign a decimal to variable\n",
        "ariane = 1.01\n"
      ],
      "metadata": {
        "id": "F1yf2YKPRPqn"
      },
      "execution_count": null,
      "outputs": []
    },
    {
      "cell_type": "code",
      "source": [
        "#what type is this \n",
        "type(ariane)"
      ],
      "metadata": {
        "id": "peedsFc7RS7s",
        "colab": {
          "base_uri": "https://localhost:8080/"
        },
        "outputId": "2d543b40-aaa4-41f5-bb62-1bd49be7fb1a"
      },
      "execution_count": null,
      "outputs": [
        {
          "output_type": "execute_result",
          "data": {
            "text/plain": [
              "float"
            ]
          },
          "metadata": {},
          "execution_count": 21
        }
      ]
    },
    {
      "cell_type": "markdown",
      "source": [
        "'Numeric' types --> integer and floats\n",
        "\n",
        "(There are also other numeric types like hex for hexidemical and complex for complex numbers)\n",
        "\n"
      ],
      "metadata": {
        "id": "VDfYQQmrRUjo"
      }
    },
    {
      "cell_type": "markdown",
      "source": [
        "5 min into groups \n",
        "### Poll Time \n",
        "#### Your vote counts!!!! 🗳️ \n",
        "\n",
        "\n",
        "\n",
        "\n",
        "\n",
        "What is the <b>type</b> of the variable letters defined below ?\n",
        "\n",
        "letters = \"ABACBS\""
      ],
      "metadata": {
        "id": "tUz1brdPN6cu"
      }
    },
    {
      "cell_type": "markdown",
      "source": [
        "## Strings"
      ],
      "metadata": {
        "id": "LrNrEqbpOz9V"
      }
    },
    {
      "cell_type": "code",
      "source": [
        "words_words=\"Python strings are Unicode (UTF-8) ❤❤❤ 😸 蛇\""
      ],
      "metadata": {
        "id": "nohUxGSYVpLZ"
      },
      "execution_count": null,
      "outputs": []
    },
    {
      "cell_type": "code",
      "source": [
        "#print the string\n",
        "print(words_words)"
      ],
      "metadata": {
        "id": "vSh0q8ZnVxmf",
        "colab": {
          "base_uri": "https://localhost:8080/"
        },
        "outputId": "fd73e4cf-f793-45c1-8129-3d0e5c89a09b"
      },
      "execution_count": null,
      "outputs": [
        {
          "output_type": "stream",
          "name": "stdout",
          "text": [
            "Python strings are Unicode (UTF-8) ❤❤❤ 😸 蛇\n"
          ]
        }
      ]
    },
    {
      "cell_type": "code",
      "source": [
        "#what type is it\n",
        "type(words_words)"
      ],
      "metadata": {
        "id": "hXcXZkQXVx7n",
        "colab": {
          "base_uri": "https://localhost:8080/"
        },
        "outputId": "66ac56ee-69c5-4d78-bcb7-5ca0bf0199ef"
      },
      "execution_count": null,
      "outputs": [
        {
          "output_type": "execute_result",
          "data": {
            "text/plain": [
              "str"
            ]
          },
          "metadata": {},
          "execution_count": 24
        }
      ]
    },
    {
      "cell_type": "markdown",
      "source": [
        "# Operators "
      ],
      "metadata": {
        "id": "qvyoV-UHO1an"
      }
    },
    {
      "cell_type": "markdown",
      "source": [
        "We can perform mathematical calculations in Python using the basic operators. \n",
        "\n",
        "##### + - * / % **\n"
      ],
      "metadata": {
        "id": "KxWZH-b7V26j"
      }
    },
    {
      "cell_type": "code",
      "source": [
        "#addition\n",
        "2+2"
      ],
      "metadata": {
        "id": "nzMrjQqeZVXW",
        "colab": {
          "base_uri": "https://localhost:8080/"
        },
        "outputId": "01835ff4-24a9-4cec-b595-07c5fe99ff54"
      },
      "execution_count": null,
      "outputs": [
        {
          "output_type": "execute_result",
          "data": {
            "text/plain": [
              "4"
            ]
          },
          "metadata": {},
          "execution_count": 25
        }
      ]
    },
    {
      "cell_type": "code",
      "source": [
        "#multiplication\n",
        "6*145"
      ],
      "metadata": {
        "id": "s1S0cXJAbgBg",
        "colab": {
          "base_uri": "https://localhost:8080/"
        },
        "outputId": "06c43936-052f-4df1-cb38-5fe1e942252d"
      },
      "execution_count": null,
      "outputs": [
        {
          "output_type": "execute_result",
          "data": {
            "text/plain": [
              "870"
            ]
          },
          "metadata": {},
          "execution_count": 26
        }
      ]
    },
    {
      "cell_type": "code",
      "source": [
        "#power\n",
        "8**789"
      ],
      "metadata": {
        "id": "Tp7TVhC-bhWq",
        "colab": {
          "base_uri": "https://localhost:8080/"
        },
        "outputId": "3395dffb-7baf-4543-df20-5f6b9248c598"
      },
      "execution_count": null,
      "outputs": [
        {
          "output_type": "execute_result",
          "data": {
            "text/plain": [
              "34514353004048826885504379648003866504545218716100012512887166177026352534370841541962887882501289866325841638561707331766897031691050608333957460427033539970294439535876702952471732553659998595663644745155016713628313452425984909782081990174307591624993749579100130456318398090982815078162452007632470130691334908608531591427734030915851830575474874482280253468219207395528369339077139237178924637556985496275398612686731128467281887462316631160226001821395479523833586086502488859219359045000405140507016244667252934364031433606290733177233518426837335038979332193267723253000815065275439846928505916844052298665056194386833699440777271073682443908318576459257064547325048882423449738412777426102675653869436928"
            ]
          },
          "metadata": {},
          "execution_count": 27
        }
      ]
    },
    {
      "cell_type": "code",
      "source": [
        "#Modulo\n",
        "13%6"
      ],
      "metadata": {
        "id": "fVP5CtH8V2CF",
        "colab": {
          "base_uri": "https://localhost:8080/"
        },
        "outputId": "9cf542a0-9968-41ae-8326-c95113f3a2f2"
      },
      "execution_count": null,
      "outputs": [
        {
          "output_type": "execute_result",
          "data": {
            "text/plain": [
              "1"
            ]
          },
          "metadata": {},
          "execution_count": 29
        }
      ]
    },
    {
      "cell_type": "code",
      "source": [
        "# int + int = ?\n",
        "a=5\n",
        "print(a+4)\n",
        "type(a+4)"
      ],
      "metadata": {
        "id": "aDqq2EjZWQS6",
        "colab": {
          "base_uri": "https://localhost:8080/"
        },
        "outputId": "4a890887-8d67-4f01-eff9-95fd6bacd195"
      },
      "execution_count": null,
      "outputs": [
        {
          "output_type": "stream",
          "name": "stdout",
          "text": [
            "9\n"
          ]
        },
        {
          "output_type": "execute_result",
          "data": {
            "text/plain": [
              "int"
            ]
          },
          "metadata": {},
          "execution_count": 32
        }
      ]
    },
    {
      "cell_type": "code",
      "source": [
        "# int + float = ?\n",
        "a=3\n",
        "print(a+3.2)\n",
        "type(a+3.2)"
      ],
      "metadata": {
        "id": "4JJvEUBwWQvE",
        "colab": {
          "base_uri": "https://localhost:8080/"
        },
        "outputId": "6efc7c20-bd8b-4a7b-8258-802564f1ba79"
      },
      "execution_count": null,
      "outputs": [
        {
          "output_type": "stream",
          "name": "stdout",
          "text": [
            "6.2\n"
          ]
        },
        {
          "output_type": "execute_result",
          "data": {
            "text/plain": [
              "float"
            ]
          },
          "metadata": {},
          "execution_count": 34
        }
      ]
    },
    {
      "cell_type": "code",
      "source": [
        "tyrone"
      ],
      "metadata": {
        "colab": {
          "base_uri": "https://localhost:8080/"
        },
        "id": "RDCJSMu4xPeb",
        "outputId": "b4f227c9-4468-44e3-afdd-b8fc825c1537"
      },
      "execution_count": null,
      "outputs": [
        {
          "output_type": "execute_result",
          "data": {
            "text/plain": [
              "1"
            ]
          },
          "metadata": {},
          "execution_count": 40
        }
      ]
    },
    {
      "cell_type": "code",
      "source": [
        "# int + str = ?\n",
        "name=\"tyrone\"\n",
        "print(name+str(1))"
      ],
      "metadata": {
        "id": "ksRBZ5MgWwK8",
        "colab": {
          "base_uri": "https://localhost:8080/"
        },
        "outputId": "54c5c102-9dbc-4b3b-85ff-a840fda343a6"
      },
      "execution_count": null,
      "outputs": [
        {
          "output_type": "stream",
          "name": "stdout",
          "text": [
            "tyrone1\n"
          ]
        }
      ]
    },
    {
      "cell_type": "code",
      "source": [
        "#str(int) + str =?\n",
        "str(4)+ \"helen\""
      ],
      "metadata": {
        "id": "IYxP1ySCWyF3",
        "colab": {
          "base_uri": "https://localhost:8080/",
          "height": 35
        },
        "outputId": "16b3eb85-b49d-4672-b4d6-030213262aa6"
      },
      "execution_count": null,
      "outputs": [
        {
          "output_type": "execute_result",
          "data": {
            "text/plain": [
              "'4helen'"
            ],
            "application/vnd.google.colaboratory.intrinsic+json": {
              "type": "string"
            }
          },
          "metadata": {},
          "execution_count": 42
        }
      ]
    },
    {
      "cell_type": "code",
      "source": [
        "# demonstrate int += 1\n",
        "number=4\n",
        "number+=1\n",
        "print(number)"
      ],
      "metadata": {
        "id": "fpdi2x8wW6-c",
        "colab": {
          "base_uri": "https://localhost:8080/"
        },
        "outputId": "bbb2aa7e-5cbd-481f-870f-5bd823c2d66f"
      },
      "execution_count": null,
      "outputs": [
        {
          "output_type": "stream",
          "name": "stdout",
          "text": [
            "5\n"
          ]
        }
      ]
    },
    {
      "cell_type": "markdown",
      "source": [
        "## Boolean operators\n",
        "We can also use comparison and logic operators: <b> <, >, ==, !=, <=, >=  </b> and statements of identity such as <b> and, or, not. </b>"
      ],
      "metadata": {
        "id": "uEhNgzLOO6Yx"
      }
    },
    {
      "cell_type": "code",
      "source": [
        " # > \n",
        " helen=4\n",
        " tyrone=6\n",
        " helen != tyrone"
      ],
      "metadata": {
        "id": "FCNqcHhHW9sF",
        "colab": {
          "base_uri": "https://localhost:8080/"
        },
        "outputId": "7c136440-28d1-46c2-bfe2-7e53c9faab72"
      },
      "execution_count": null,
      "outputs": [
        {
          "output_type": "execute_result",
          "data": {
            "text/plain": [
              "True"
            ]
          },
          "metadata": {},
          "execution_count": 49
        }
      ]
    },
    {
      "cell_type": "code",
      "source": [
        "helen = True\n"
      ],
      "metadata": {
        "id": "PGXNM73uXMVp"
      },
      "execution_count": null,
      "outputs": []
    },
    {
      "cell_type": "code",
      "source": [
        "#or"
      ],
      "metadata": {
        "id": "TFEJqFFaXMK7"
      },
      "execution_count": null,
      "outputs": []
    },
    {
      "cell_type": "markdown",
      "source": [
        "# Lists and sequence types\n"
      ],
      "metadata": {
        "id": "eoy_8rK6NwWl"
      }
    },
    {
      "cell_type": "markdown",
      "source": [
        "## Lists"
      ],
      "metadata": {
        "id": "k8dXZrS_NxYf"
      }
    },
    {
      "cell_type": "code",
      "source": [
        " #form a list of numbers\n",
        " cats = [4,5,67]"
      ],
      "metadata": {
        "id": "UrXhfLZbZNM8"
      },
      "execution_count": null,
      "outputs": []
    },
    {
      "cell_type": "code",
      "source": [
        "#find the length\n",
        "len(cats)"
      ],
      "metadata": {
        "id": "GrmnqunbZPrj",
        "colab": {
          "base_uri": "https://localhost:8080/"
        },
        "outputId": "e1fa2a5b-c107-4d5e-9d69-1e5c14b88ab2"
      },
      "execution_count": null,
      "outputs": [
        {
          "output_type": "execute_result",
          "data": {
            "text/plain": [
              "3"
            ]
          },
          "metadata": {},
          "execution_count": 59
        }
      ]
    },
    {
      "cell_type": "code",
      "source": [
        "#lists can contain multiple data types\n",
        "list_of_cats = [\"Persian\", 5, 6]\n",
        "#write a mixed list including a list with alist\n",
        "list_of_cats = [\"Persian\", 5, [6,4.3,5]]\n",
        "len(list_of_cats)"
      ],
      "metadata": {
        "id": "yPI1UW0dbr8z",
        "colab": {
          "base_uri": "https://localhost:8080/"
        },
        "outputId": "56d28e39-36b2-48e3-ecdf-9f788e83fbc0"
      },
      "execution_count": null,
      "outputs": [
        {
          "output_type": "execute_result",
          "data": {
            "text/plain": [
              "3"
            ]
          },
          "metadata": {},
          "execution_count": 61
        }
      ]
    },
    {
      "cell_type": "code",
      "source": [
        "#these can be retrieved by their index \n",
        "list_of_cats[1]"
      ],
      "metadata": {
        "id": "9oTHoLrZb1mi",
        "colab": {
          "base_uri": "https://localhost:8080/"
        },
        "outputId": "c24627e4-34ba-4a95-a6f1-2276e54bd340"
      },
      "execution_count": null,
      "outputs": [
        {
          "output_type": "execute_result",
          "data": {
            "text/plain": [
              "5"
            ]
          },
          "metadata": {},
          "execution_count": 62
        }
      ]
    },
    {
      "cell_type": "code",
      "source": [
        "#in python the first item in an inex is always zero\n",
        "list_of_cats[0]"
      ],
      "metadata": {
        "id": "Q7HMhuP_b4XW",
        "colab": {
          "base_uri": "https://localhost:8080/",
          "height": 35
        },
        "outputId": "77383c97-4b01-4bcc-a28c-f5d3eab1dfaf"
      },
      "execution_count": null,
      "outputs": [
        {
          "output_type": "execute_result",
          "data": {
            "text/plain": [
              "'Persian'"
            ],
            "application/vnd.google.colaboratory.intrinsic+json": {
              "type": "string"
            }
          },
          "metadata": {},
          "execution_count": 63
        }
      ]
    },
    {
      "cell_type": "code",
      "source": [
        "#you can also assined a new value to any position on the list\n",
        "list_of_cats[0] = \"Siamese\""
      ],
      "metadata": {
        "id": "ZVKGxmmBcBzB"
      },
      "execution_count": null,
      "outputs": []
    },
    {
      "cell_type": "code",
      "source": [
        "#print  the new list\n",
        "print(list_of_cats)"
      ],
      "metadata": {
        "id": "FB1OkzkTcIfa",
        "colab": {
          "base_uri": "https://localhost:8080/"
        },
        "outputId": "88a01a34-8566-426e-a94c-3910bba2acdb"
      },
      "execution_count": null,
      "outputs": [
        {
          "output_type": "stream",
          "name": "stdout",
          "text": [
            "['Siamese', 5, [6, 4.3, 5]]\n"
          ]
        }
      ]
    },
    {
      "cell_type": "code",
      "source": [
        "#you can append items to the end of the list\n",
        "list_of_cats.append(\"Fluffy\")"
      ],
      "metadata": {
        "id": "9nHzKlzZcKs0"
      },
      "execution_count": null,
      "outputs": []
    },
    {
      "cell_type": "code",
      "source": [
        "print(list_of_cats)"
      ],
      "metadata": {
        "colab": {
          "base_uri": "https://localhost:8080/"
        },
        "id": "8W_B5Nut0F9E",
        "outputId": "12575061-622a-437a-b5e2-2eb9b15a78b2"
      },
      "execution_count": null,
      "outputs": [
        {
          "output_type": "stream",
          "name": "stdout",
          "text": [
            "['Siamese', 5, [6, 4.3, 5], 'Fluffy']\n"
          ]
        }
      ]
    },
    {
      "cell_type": "code",
      "source": [
        "#you can add multiple items to the end of a list with extend\n",
        "list_of_cats.extend([1,2])"
      ],
      "metadata": {
        "id": "TwUe0bQNcOFf"
      },
      "execution_count": null,
      "outputs": []
    },
    {
      "cell_type": "code",
      "source": [
        "print(len(list_of_cats))\n",
        "print(list_of_cats)"
      ],
      "metadata": {
        "colab": {
          "base_uri": "https://localhost:8080/"
        },
        "id": "B5HggI0e0NJv",
        "outputId": "69657972-5076-4903-b014-c82d08aa2045"
      },
      "execution_count": null,
      "outputs": [
        {
          "output_type": "stream",
          "name": "stdout",
          "text": [
            "6\n",
            "['Siamese', 5, [6, 4.3, 5], 'Fluffy', 1, 2]\n"
          ]
        }
      ]
    },
    {
      "cell_type": "code",
      "source": [
        "list_of_dogs = [\"shitz tzu\",\"golden retriever\",\"chihauha\"]\n",
        "print(list_of_dogs[2])\n"
      ],
      "metadata": {
        "colab": {
          "base_uri": "https://localhost:8080/"
        },
        "id": "C6YL8ckR0ZoM",
        "outputId": "4d83c6ef-8b5a-46e8-d392-6644d42b12c0"
      },
      "execution_count": null,
      "outputs": [
        {
          "output_type": "stream",
          "name": "stdout",
          "text": [
            "chihauha\n"
          ]
        }
      ]
    },
    {
      "cell_type": "code",
      "source": [
        "list_of_safari=[\"elephant\",\"hippo\",\"lion\"]\n",
        "list_of_safari[0]"
      ],
      "metadata": {
        "colab": {
          "base_uri": "https://localhost:8080/",
          "height": 35
        },
        "id": "kZcQkTIZ3m9l",
        "outputId": "cb125313-9e3d-4f7f-d7db-0723a9ea094d"
      },
      "execution_count": null,
      "outputs": [
        {
          "output_type": "execute_result",
          "data": {
            "text/plain": [
              "'elephant'"
            ],
            "application/vnd.google.colaboratory.intrinsic+json": {
              "type": "string"
            }
          },
          "metadata": {},
          "execution_count": 82
        }
      ]
    },
    {
      "cell_type": "markdown",
      "source": [
        "## Loops "
      ],
      "metadata": {
        "id": "puoowQLSPOBI"
      }
    },
    {
      "cell_type": "markdown",
      "source": [
        "A for loop can be used to access the elements in a list or other Python data structure one at a time. We will learn about loops in another lesson.\n",
        "\n"
      ],
      "metadata": {
        "id": "TBoJxiBtcYLG"
      }
    },
    {
      "cell_type": "code",
      "source": [
        "list_of_numbers=[6,4,5]\n",
        "for num in list_of_numbers:\n",
        "  print(num)"
      ],
      "metadata": {
        "id": "tTq5oNiFcU0w",
        "colab": {
          "base_uri": "https://localhost:8080/"
        },
        "outputId": "7ddc44ce-53a7-409c-a059-3153c1cc237a"
      },
      "execution_count": null,
      "outputs": [
        {
          "output_type": "stream",
          "name": "stdout",
          "text": [
            "6\n",
            "4\n",
            "5\n"
          ]
        }
      ]
    },
    {
      "cell_type": "code",
      "source": [
        "  type(list_of_numbers)"
      ],
      "metadata": {
        "colab": {
          "base_uri": "https://localhost:8080/"
        },
        "id": "1pSLQs8I3Fxj",
        "outputId": "2c51610d-386e-4b2f-d34c-14b8331c7428"
      },
      "execution_count": null,
      "outputs": [
        {
          "output_type": "execute_result",
          "data": {
            "text/plain": [
              "list"
            ]
          },
          "metadata": {},
          "execution_count": 85
        }
      ]
    },
    {
      "cell_type": "markdown",
      "source": [
        "Indentation is very important in Python. Note that the second line in the example above is indented, indicating the code that is the body of the loop.\n"
      ],
      "metadata": {
        "id": "fliPqhNWcdbz"
      }
    },
    {
      "cell_type": "code",
      "source": [
        "#help of list\n",
        "help(list_of_numbers)"
      ],
      "metadata": {
        "id": "KauzkVSdcl5g",
        "colab": {
          "base_uri": "https://localhost:8080/"
        },
        "outputId": "6b356339-6b0d-4544-a988-18c66b45704c"
      },
      "execution_count": null,
      "outputs": [
        {
          "output_type": "stream",
          "name": "stdout",
          "text": [
            "Help on list object:\n",
            "\n",
            "class list(object)\n",
            " |  list(iterable=(), /)\n",
            " |  \n",
            " |  Built-in mutable sequence.\n",
            " |  \n",
            " |  If no argument is given, the constructor creates a new empty list.\n",
            " |  The argument must be an iterable if specified.\n",
            " |  \n",
            " |  Methods defined here:\n",
            " |  \n",
            " |  __add__(self, value, /)\n",
            " |      Return self+value.\n",
            " |  \n",
            " |  __contains__(self, key, /)\n",
            " |      Return key in self.\n",
            " |  \n",
            " |  __delitem__(self, key, /)\n",
            " |      Delete self[key].\n",
            " |  \n",
            " |  __eq__(self, value, /)\n",
            " |      Return self==value.\n",
            " |  \n",
            " |  __ge__(self, value, /)\n",
            " |      Return self>=value.\n",
            " |  \n",
            " |  __getattribute__(self, name, /)\n",
            " |      Return getattr(self, name).\n",
            " |  \n",
            " |  __getitem__(...)\n",
            " |      x.__getitem__(y) <==> x[y]\n",
            " |  \n",
            " |  __gt__(self, value, /)\n",
            " |      Return self>value.\n",
            " |  \n",
            " |  __iadd__(self, value, /)\n",
            " |      Implement self+=value.\n",
            " |  \n",
            " |  __imul__(self, value, /)\n",
            " |      Implement self*=value.\n",
            " |  \n",
            " |  __init__(self, /, *args, **kwargs)\n",
            " |      Initialize self.  See help(type(self)) for accurate signature.\n",
            " |  \n",
            " |  __iter__(self, /)\n",
            " |      Implement iter(self).\n",
            " |  \n",
            " |  __le__(self, value, /)\n",
            " |      Return self<=value.\n",
            " |  \n",
            " |  __len__(self, /)\n",
            " |      Return len(self).\n",
            " |  \n",
            " |  __lt__(self, value, /)\n",
            " |      Return self<value.\n",
            " |  \n",
            " |  __mul__(self, value, /)\n",
            " |      Return self*value.\n",
            " |  \n",
            " |  __ne__(self, value, /)\n",
            " |      Return self!=value.\n",
            " |  \n",
            " |  __repr__(self, /)\n",
            " |      Return repr(self).\n",
            " |  \n",
            " |  __reversed__(self, /)\n",
            " |      Return a reverse iterator over the list.\n",
            " |  \n",
            " |  __rmul__(self, value, /)\n",
            " |      Return value*self.\n",
            " |  \n",
            " |  __setitem__(self, key, value, /)\n",
            " |      Set self[key] to value.\n",
            " |  \n",
            " |  __sizeof__(self, /)\n",
            " |      Return the size of the list in memory, in bytes.\n",
            " |  \n",
            " |  append(self, object, /)\n",
            " |      Append object to the end of the list.\n",
            " |  \n",
            " |  clear(self, /)\n",
            " |      Remove all items from list.\n",
            " |  \n",
            " |  copy(self, /)\n",
            " |      Return a shallow copy of the list.\n",
            " |  \n",
            " |  count(self, value, /)\n",
            " |      Return number of occurrences of value.\n",
            " |  \n",
            " |  extend(self, iterable, /)\n",
            " |      Extend list by appending elements from the iterable.\n",
            " |  \n",
            " |  index(self, value, start=0, stop=9223372036854775807, /)\n",
            " |      Return first index of value.\n",
            " |      \n",
            " |      Raises ValueError if the value is not present.\n",
            " |  \n",
            " |  insert(self, index, object, /)\n",
            " |      Insert object before index.\n",
            " |  \n",
            " |  pop(self, index=-1, /)\n",
            " |      Remove and return item at index (default last).\n",
            " |      \n",
            " |      Raises IndexError if list is empty or index is out of range.\n",
            " |  \n",
            " |  remove(self, value, /)\n",
            " |      Remove first occurrence of value.\n",
            " |      \n",
            " |      Raises ValueError if the value is not present.\n",
            " |  \n",
            " |  reverse(self, /)\n",
            " |      Reverse *IN PLACE*.\n",
            " |  \n",
            " |  sort(self, /, *, key=None, reverse=False)\n",
            " |      Stable sort *IN PLACE*.\n",
            " |  \n",
            " |  ----------------------------------------------------------------------\n",
            " |  Static methods defined here:\n",
            " |  \n",
            " |  __new__(*args, **kwargs) from builtins.type\n",
            " |      Create and return a new object.  See help(type) for accurate signature.\n",
            " |  \n",
            " |  ----------------------------------------------------------------------\n",
            " |  Data and other attributes defined here:\n",
            " |  \n",
            " |  __hash__ = None\n",
            "\n"
          ]
        }
      ]
    },
    {
      "cell_type": "markdown",
      "source": [
        "\n",
        "To find out what methods are available for an object, we can use the built-in help command:\n",
        "\n"
      ],
      "metadata": {
        "id": "Tf9gHOrwce2s"
      }
    },
    {
      "cell_type": "markdown",
      "source": [
        "## Tuples"
      ],
      "metadata": {
        "id": "FI0U4jefPQa-"
      }
    },
    {
      "cell_type": "markdown",
      "source": [
        "A tuple is similar to a list in that it's an ordered sequence of elements. However, tuples can not be changed once created (they are \"immutable\"). Tuples are created by placing comma-separated values inside parentheses ().\n",
        "\n"
      ],
      "metadata": {
        "id": "P1nQMflKcv-1"
      }
    },
    {
      "cell_type": "code",
      "source": [
        "# tuples_are_immutable = (\"bar\", 100, 200, \"foo\")\n",
        "tuples_example = (\"bar\", 100, 400, \"help\")"
      ],
      "metadata": {
        "id": "Af3sx41Jct5f"
      },
      "execution_count": null,
      "outputs": []
    },
    {
      "cell_type": "code",
      "source": [
        "#print one element of tuple\n",
        "print(tuples_example[3])"
      ],
      "metadata": {
        "id": "_xpBUGdudTpb",
        "colab": {
          "base_uri": "https://localhost:8080/"
        },
        "outputId": "6b8e5da9-a97f-4ca5-db1c-9f5f3541ecb5"
      },
      "execution_count": null,
      "outputs": [
        {
          "output_type": "stream",
          "name": "stdout",
          "text": [
            "help\n"
          ]
        }
      ]
    },
    {
      "cell_type": "code",
      "source": [
        "#reassign a different value to element of a tuple\n",
        "tuples_example[3]=\"hello\""
      ],
      "metadata": {
        "id": "9TxahFfrdTax",
        "colab": {
          "base_uri": "https://localhost:8080/",
          "height": 183
        },
        "outputId": "cee22164-6586-43a8-9e15-17cbd7ae5a57"
      },
      "execution_count": null,
      "outputs": [
        {
          "output_type": "error",
          "ename": "TypeError",
          "evalue": "ignored",
          "traceback": [
            "\u001b[0;31m---------------------------------------------------------------------------\u001b[0m",
            "\u001b[0;31mTypeError\u001b[0m                                 Traceback (most recent call last)",
            "\u001b[0;32m<ipython-input-92-d05b5a7a7b59>\u001b[0m in \u001b[0;36m<module>\u001b[0;34m\u001b[0m\n\u001b[1;32m      1\u001b[0m \u001b[0;31m#reassign a different value to element of a tuple\u001b[0m\u001b[0;34m\u001b[0m\u001b[0;34m\u001b[0m\u001b[0;34m\u001b[0m\u001b[0m\n\u001b[0;32m----> 2\u001b[0;31m \u001b[0mtuples_example\u001b[0m\u001b[0;34m[\u001b[0m\u001b[0;36m3\u001b[0m\u001b[0;34m]\u001b[0m\u001b[0;34m=\u001b[0m\u001b[0;34m\"hello\"\u001b[0m\u001b[0;34m\u001b[0m\u001b[0;34m\u001b[0m\u001b[0m\n\u001b[0m",
            "\u001b[0;31mTypeError\u001b[0m: 'tuple' object does not support item assignment"
          ]
        }
      ]
    },
    {
      "cell_type": "markdown",
      "source": [
        "## Dictionary\n",
        "\n",
        "Dictionaries are a container that store key-value pairs. They are unordered.\n",
        "\n",
        "Other programming languages might call this a 'hash', 'hashtable' or 'hashmap'.\n",
        "\n"
      ],
      "metadata": {
        "id": "1LM_XFaQPSgi"
      }
    },
    {
      "cell_type": "code",
      "source": [
        "dogma = {'DNA': 1, 'RNA': 2, 'Protein': 3, 'key':5}\n",
        "dogma"
      ],
      "metadata": {
        "id": "_Iun9Frrcuda",
        "colab": {
          "base_uri": "https://localhost:8080/"
        },
        "outputId": "4afde220-0bbf-442d-f934-db17f40b9da1"
      },
      "execution_count": null,
      "outputs": [
        {
          "output_type": "execute_result",
          "data": {
            "text/plain": [
              "{'DNA': 1, 'RNA': 2, 'Protein': 3, 'key': 5}"
            ]
          },
          "metadata": {},
          "execution_count": 101
        }
      ]
    },
    {
      "cell_type": "code",
      "source": [
        "#print a value of the dictionary using the key\n",
        "dogma['DNA']"
      ],
      "metadata": {
        "id": "0_qSvnr-fNE-",
        "colab": {
          "base_uri": "https://localhost:8080/"
        },
        "outputId": "e4b8fb3d-2d44-4b1e-fd25-744c9195151d"
      },
      "execution_count": null,
      "outputs": [
        {
          "output_type": "execute_result",
          "data": {
            "text/plain": [
              "1"
            ]
          },
          "metadata": {},
          "execution_count": 102
        }
      ]
    },
    {
      "cell_type": "code",
      "source": [
        "#reassign a value of dictionary\n",
        "dogma['RNA'] =16"
      ],
      "metadata": {
        "id": "YlVIvMx1fVUm"
      },
      "execution_count": null,
      "outputs": []
    },
    {
      "cell_type": "code",
      "source": [
        "#print the values only\n",
        "print(dogma)"
      ],
      "metadata": {
        "id": "FAEm4H-Yfzk1",
        "colab": {
          "base_uri": "https://localhost:8080/"
        },
        "outputId": "98f8686e-d130-41cf-c831-0addb072eedf"
      },
      "execution_count": null,
      "outputs": [
        {
          "output_type": "stream",
          "name": "stdout",
          "text": [
            "{'DNA': 1, 'RNA': 16, 'Protein': 3}\n"
          ]
        }
      ]
    },
    {
      "cell_type": "code",
      "source": [
        "dogma.items()"
      ],
      "metadata": {
        "colab": {
          "base_uri": "https://localhost:8080/"
        },
        "id": "ocrNj0XH6D6a",
        "outputId": "863c60ba-c7b5-4e4f-b6b2-466a6a771382"
      },
      "execution_count": null,
      "outputs": [
        {
          "output_type": "execute_result",
          "data": {
            "text/plain": [
              "dict_items([('DNA', 1), ('RNA', 2), ('Protein', 3), ('key', 5)])"
            ]
          },
          "metadata": {},
          "execution_count": 103
        }
      ]
    },
    {
      "cell_type": "code",
      "source": [
        "#print the keys only\n",
        "dogma.keys()"
      ],
      "metadata": {
        "id": "0RTunIJaf2XO",
        "colab": {
          "base_uri": "https://localhost:8080/"
        },
        "outputId": "d7f29321-cdee-47ea-9bc0-a4a2bda8adac"
      },
      "execution_count": null,
      "outputs": [
        {
          "output_type": "execute_result",
          "data": {
            "text/plain": [
              "dict_keys(['DNA', 'RNA', 'Protein', 'key'])"
            ]
          },
          "metadata": {},
          "execution_count": 104
        }
      ]
    },
    {
      "cell_type": "code",
      "source": [
        "#print the values only\n",
        "dogma.values()"
      ],
      "metadata": {
        "colab": {
          "base_uri": "https://localhost:8080/"
        },
        "id": "KRBgy8_G6OZA",
        "outputId": "e48072be-8795-4eac-bf95-04bd2b5725c3"
      },
      "execution_count": null,
      "outputs": [
        {
          "output_type": "execute_result",
          "data": {
            "text/plain": [
              "dict_values([1, 2, 3, 5])"
            ]
          },
          "metadata": {},
          "execution_count": 105
        }
      ]
    },
    {
      "cell_type": "code",
      "source": [
        "#get the length of the dictionary\n",
        "len(dogma)"
      ],
      "metadata": {
        "id": "NB4DlLTff52K",
        "colab": {
          "base_uri": "https://localhost:8080/"
        },
        "outputId": "03b18d99-6a1f-43fc-8e0a-7c0aa0ceaf7a"
      },
      "execution_count": null,
      "outputs": [
        {
          "output_type": "execute_result",
          "data": {
            "text/plain": [
              "4"
            ]
          },
          "metadata": {},
          "execution_count": 106
        }
      ]
    },
    {
      "cell_type": "code",
      "source": [
        "dict_of_dicts = {'first': {1:2, 2: 4, 4: 8, 8: 16}, 'second': {'a': 2.2, 'b': 4.4}}\n",
        "dict_of_dicts #an example of a more compliated dictionary"
      ],
      "metadata": {
        "id": "hmnGn9Wnf9Vq",
        "colab": {
          "base_uri": "https://localhost:8080/"
        },
        "outputId": "8cb07ac8-fbcb-4b27-e302-44043a0b9f1f"
      },
      "execution_count": null,
      "outputs": [
        {
          "output_type": "execute_result",
          "data": {
            "text/plain": [
              "{'first': {1: 2, 2: 4, 4: 8, 8: 16}, 'second': {'a': 2.2, 'b': 4.4}}"
            ]
          },
          "metadata": {},
          "execution_count": 107
        }
      ]
    },
    {
      "cell_type": "code",
      "source": [
        "name "
      ],
      "metadata": {
        "colab": {
          "base_uri": "https://localhost:8080/",
          "height": 35
        },
        "id": "JdZ6HyXF8zQD",
        "outputId": "d7e636ec-1eb6-486a-e7f0-41a5e98bee73"
      },
      "execution_count": null,
      "outputs": [
        {
          "output_type": "execute_result",
          "data": {
            "text/plain": [
              "'tyrone'"
            ],
            "application/vnd.google.colaboratory.intrinsic+json": {
              "type": "string"
            }
          },
          "metadata": {},
          "execution_count": 108
        }
      ]
    },
    {
      "cell_type": "markdown",
      "source": [
        "5 min into groups\n",
        "\n",
        "Poll Time\n",
        "Your vote counts!!!! 🗳️\n",
        " \n",
        "jam_ratings = {'Plum': 6, 'Apricot': 2, 'Strawberry': 8}\n",
        "\n",
        "\n",
        "How would you change the value associated with the key Apricot to 9.\n",
        "\n",
        "- jam_ratings = {'apricot': 9}\n",
        "- jam_ratings[9] = 'Apricot'\n",
        "- jam_ratings['Apricot'] = 9\n",
        "- jam_ratings[2] = 'Apricot'"
      ],
      "metadata": {
        "id": "orfpWoUQgFvH"
      }
    },
    {
      "cell_type": "code",
      "source": [
        "jam_ratings = {'Plum': 6, 'Apricot': 2, 'Strawberry': 8}"
      ],
      "metadata": {
        "id": "Bb-Y3FWC-0XD"
      },
      "execution_count": null,
      "outputs": []
    },
    {
      "cell_type": "code",
      "source": [
        "jam_ratings['Apricot']=9"
      ],
      "metadata": {
        "id": "2JCN-0kzAfYN"
      },
      "execution_count": null,
      "outputs": []
    },
    {
      "cell_type": "code",
      "source": [
        "print(jam_ratings)"
      ],
      "metadata": {
        "colab": {
          "base_uri": "https://localhost:8080/"
        },
        "id": "xrUercyjAfDo",
        "outputId": "bae6c838-47c3-4bd8-a664-2069f3fa112a"
      },
      "execution_count": null,
      "outputs": [
        {
          "output_type": "stream",
          "name": "stdout",
          "text": [
            "{'Plum': 6, 'Apricot': 9, 'Strawberry': 8}\n"
          ]
        }
      ]
    },
    {
      "cell_type": "code",
      "source": [],
      "metadata": {
        "id": "g2Z5hMVeAeyc"
      },
      "execution_count": null,
      "outputs": []
    }
  ]
}
