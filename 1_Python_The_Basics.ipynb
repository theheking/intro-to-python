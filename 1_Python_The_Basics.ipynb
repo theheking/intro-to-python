{
  "nbformat": 4,
  "nbformat_minor": 0,
  "metadata": {
    "colab": {
      "provenance": [],
      "authorship_tag": "ABX9TyMffkwO7XPY8Yb9XVy5b+FL",
      "include_colab_link": true
    },
    "kernelspec": {
      "name": "python3",
      "display_name": "Python 3"
    },
    "language_info": {
      "name": "python"
    }
  },
  "cells": [
    {
      "cell_type": "markdown",
      "metadata": {
        "id": "view-in-github",
        "colab_type": "text"
      },
      "source": [
        "<a href=\"https://colab.research.google.com/github/theheking/intro-to-python/blob/gh-pages/1_Python_The_Basics.ipynb\" target=\"_parent\"><img src=\"https://colab.research.google.com/assets/colab-badge.svg\" alt=\"Open In Colab\"/></a>"
      ]
    },
    {
      "cell_type": "markdown",
      "source": [
        "# Fundamentals of Python\n",
        "\n",
        "# Objectives\n",
        "Assign value to variables\n",
        "\n",
        "Guido Van Rossum first created Python in 1991 with key aims:\n",
        "\n",
        "1. Good for day to day activities. Less development time.\n",
        "2. As simple and easy to understand as english\n",
        "3. Open source so that everyone can contirbute to the program\n",
        "\n",
        "# What are the advantages of using Python compared to other languages?\n",
        "\n",
        "## Advantages....\n",
        "- Open-source\n",
        "- Available for iOS, Windows and Linux\n",
        "- Designed for readability\n",
        "- Large supportive community\n",
        "- Third party packages! \n",
        "\n",
        "## Disadvantages....\n",
        "- Speed\n",
        "- High memory consumption\n",
        "- Low execution speed"
      ],
      "metadata": {
        "id": "K6jZDrWSei1K"
      }
    },
    {
      "cell_type": "code",
      "source": [
        "import sys\n",
        "print(sys.version)\n"
      ],
      "metadata": {
        "id": "vg5LgNuSfGPB"
      },
      "execution_count": null,
      "outputs": []
    },
    {
      "cell_type": "markdown",
      "source": [
        "The designer of Python is Guido van Rossum!\n",
        "He used to be the BDFL which he retired from in 2018! Now 31 years later and on release 3.10.6"
      ],
      "metadata": {
        "id": "ZspmX_OhaWzc"
      }
    },
    {
      "cell_type": "markdown",
      "source": [
        "# Using interactive Python in Jupyter-style notebooks\n",
        "There are two methods to use python\n",
        "- interactive mode: similar to a scientific calculator, but you insert code into blocks within jupyter notebooks `.ipynb`. \n",
        "- scripting mode: save that same code into a file with the ending `.py`. "
      ],
      "metadata": {
        "id": "z5xEES0ABJ0p"
      }
    },
    {
      "cell_type": "code",
      "source": [
        "#print something in interactively in shell"
      ],
      "metadata": {
        "id": "1ez6kEjdPE_C"
      },
      "execution_count": null,
      "outputs": []
    },
    {
      "cell_type": "markdown",
      "source": [
        "#Some easy shortcuts to note\n",
        "\n",
        "Shift-Enter to run the contents of the cell\n",
        "\n",
        "You can add new cells by either \n",
        "a) hovering in between two boxes and selecting code. \n",
        "b) Insert then insert code cell\n",
        "\n",
        "NOTE: When the text on the left hand of the cell is: In [*] (with an asterisk rather than a number) --> cell is still running.\n",
        "\n",
        "Let's begin writing some code in our notebook.\n",
        "\n"
      ],
      "metadata": {
        "id": "YckDXXfXQtfu"
      }
    },
    {
      "cell_type": "code",
      "source": [
        "#assign a string to variable\n",
        "\n",
        "#print variable"
      ],
      "metadata": {
        "id": "CaUZgf3RPkFM"
      },
      "execution_count": null,
      "outputs": []
    },
    {
      "cell_type": "markdown",
      "source": [
        "A hash tag (#) denotes a comment anything after that comment is ignored by the the python intepreter"
      ],
      "metadata": {
        "id": "gRYT9Zt5REjd"
      }
    },
    {
      "cell_type": "code",
      "source": [
        "#show a comment"
      ],
      "metadata": {
        "id": "VxHwGT-qRDtg"
      },
      "execution_count": null,
      "outputs": []
    },
    {
      "cell_type": "markdown",
      "source": [
        "# Variables and data types"
      ],
      "metadata": {
        "id": "wfk81IM0NlfC"
      }
    },
    {
      "cell_type": "markdown",
      "source": [
        "## Integers, floats and strings\n",
        "Of the 'Numeric' types. There are two key types integer and floats.\n",
        "\n",
        "Other (slightly less important types include `hex` for hexadecamil and `complex` for complex numbers!\n",
        "\n"
      ],
      "metadata": {
        "id": "1xmve48CNq9j"
      }
    },
    {
      "cell_type": "code",
      "source": [
        " #assign number to variable\n",
        "\n",
        " #print variable\n"
      ],
      "metadata": {
        "id": "radunqHzRLss"
      },
      "execution_count": null,
      "outputs": []
    },
    {
      "cell_type": "code",
      "source": [
        "#check type of variable\n"
      ],
      "metadata": {
        "id": "RmaZOpLRRNCG"
      },
      "execution_count": null,
      "outputs": []
    },
    {
      "cell_type": "code",
      "source": [
        "#assign a decimal to variable\n",
        "\n"
      ],
      "metadata": {
        "id": "F1yf2YKPRPqn"
      },
      "execution_count": null,
      "outputs": []
    },
    {
      "cell_type": "code",
      "source": [
        "#check type of variable\n"
      ],
      "metadata": {
        "id": "peedsFc7RS7s"
      },
      "execution_count": null,
      "outputs": []
    },
    {
      "cell_type": "markdown",
      "source": [
        "5 min into groups \n",
        "### Poll Time \n",
        "#### Your vote counts!!!! 🗳️ \n",
        "\n",
        "What is the <b>type</b> of the variable letters defined below ?\n",
        "\n",
        "letters = \"ABACBS\"\n"
      ],
      "metadata": {
        "id": "tUz1brdPN6cu"
      }
    },
    {
      "cell_type": "markdown",
      "source": [
        "## Strings\n",
        "`str` stands for \"string\". These hold sequences of characters. Characters are not limited to letts but, also numbers, punctuation and emojiis!"
      ],
      "metadata": {
        "id": "LrNrEqbpOz9V"
      }
    },
    {
      "cell_type": "code",
      "source": [
        "#create a variable of characters"
      ],
      "metadata": {
        "id": "nohUxGSYVpLZ"
      },
      "execution_count": null,
      "outputs": []
    },
    {
      "cell_type": "code",
      "source": [
        "#print the string"
      ],
      "metadata": {
        "id": "vSh0q8ZnVxmf"
      },
      "execution_count": null,
      "outputs": []
    },
    {
      "cell_type": "code",
      "source": [
        "#what type is it"
      ],
      "metadata": {
        "id": "hXcXZkQXVx7n"
      },
      "execution_count": null,
      "outputs": []
    },
    {
      "cell_type": "markdown",
      "source": [
        "# Operators "
      ],
      "metadata": {
        "id": "qvyoV-UHO1an"
      }
    },
    {
      "cell_type": "markdown",
      "source": [
        "We can perform mathematical calculations in Python using the basic operators such as: \n",
        "\n",
        "##### + - * / % **\n"
      ],
      "metadata": {
        "id": "KxWZH-b7V26j"
      }
    },
    {
      "cell_type": "code",
      "source": [
        "#addition"
      ],
      "metadata": {
        "id": "nzMrjQqeZVXW"
      },
      "execution_count": null,
      "outputs": []
    },
    {
      "cell_type": "code",
      "source": [
        "#multiplication "
      ],
      "metadata": {
        "id": "s1S0cXJAbgBg"
      },
      "execution_count": null,
      "outputs": []
    },
    {
      "cell_type": "code",
      "source": [
        "#power"
      ],
      "metadata": {
        "id": "Tp7TVhC-bhWq"
      },
      "execution_count": null,
      "outputs": []
    },
    {
      "cell_type": "code",
      "source": [
        "#modulo (finds the remainder) using %"
      ],
      "metadata": {
        "id": "fVP5CtH8V2CF"
      },
      "execution_count": null,
      "outputs": []
    },
    {
      "cell_type": "code",
      "source": [
        "# int + int = ? & what type \n"
      ],
      "metadata": {
        "id": "aDqq2EjZWQS6"
      },
      "execution_count": null,
      "outputs": []
    },
    {
      "cell_type": "code",
      "source": [
        "# int + float = ? & what type "
      ],
      "metadata": {
        "id": "4JJvEUBwWQvE"
      },
      "execution_count": null,
      "outputs": []
    },
    {
      "cell_type": "code",
      "source": [
        "# int + str = ? & what type "
      ],
      "metadata": {
        "id": "ksRBZ5MgWwK8"
      },
      "execution_count": null,
      "outputs": []
    },
    {
      "cell_type": "code",
      "source": [
        "#str(int) + str =?"
      ],
      "metadata": {
        "id": "IYxP1ySCWyF3"
      },
      "execution_count": null,
      "outputs": []
    },
    {
      "cell_type": "code",
      "source": [
        "# demonstrate int += 1"
      ],
      "metadata": {
        "id": "fpdi2x8wW6-c"
      },
      "execution_count": null,
      "outputs": []
    },
    {
      "cell_type": "markdown",
      "source": [
        "## Boolean operators\n",
        "Boolean logic means your result can one of two values, True or False. \n",
        "\n",
        "We can also use comparison and logic operators: <b> <, >, ==, !=, <=, >=  </b> and statements of identity such as <b> and, or, and not. </b> These will evaluate the two values and output True and False."
      ],
      "metadata": {
        "id": "uEhNgzLOO6Yx"
      }
    },
    {
      "cell_type": "code",
      "source": [
        " # show that the string t-cell does not equal b-cell"
      ],
      "metadata": {
        "id": "FCNqcHhHW9sF"
      },
      "execution_count": null,
      "outputs": []
    },
    {
      "cell_type": "code",
      "source": [
        "# show that "
      ],
      "metadata": {
        "id": "TFEJqFFaXMK7"
      },
      "execution_count": null,
      "outputs": []
    },
    {
      "cell_type": "markdown",
      "source": [
        "# Lists and sequence types\n"
      ],
      "metadata": {
        "id": "eoy_8rK6NwWl"
      }
    },
    {
      "cell_type": "markdown",
      "source": [
        "## Lists\n",
        "Lists are a compound data type made up of smaller parts. \n"
      ],
      "metadata": {
        "id": "k8dXZrS_NxYf"
      }
    },
    {
      "cell_type": "code",
      "source": [
        " #form a list of numbers"
      ],
      "metadata": {
        "id": "UrXhfLZbZNM8"
      },
      "execution_count": null,
      "outputs": []
    },
    {
      "cell_type": "code",
      "source": [
        "#find the length of that list "
      ],
      "metadata": {
        "id": "GrmnqunbZPrj"
      },
      "execution_count": null,
      "outputs": []
    },
    {
      "cell_type": "code",
      "source": [
        "#lists can contain multiple data types e.g. cats\n",
        "\n",
        "#write a mixed list including a list with a list"
      ],
      "metadata": {
        "id": "yPI1UW0dbr8z"
      },
      "execution_count": null,
      "outputs": []
    },
    {
      "cell_type": "code",
      "source": [
        "#subset the a value from the list"
      ],
      "metadata": {
        "id": "9oTHoLrZb1mi"
      },
      "execution_count": null,
      "outputs": []
    },
    {
      "cell_type": "code",
      "source": [
        "#subset the first value from the list"
      ],
      "metadata": {
        "id": "Q7HMhuP_b4XW"
      },
      "execution_count": null,
      "outputs": []
    },
    {
      "cell_type": "code",
      "source": [
        "#assign a new value to any position on the list"
      ],
      "metadata": {
        "id": "ZVKGxmmBcBzB"
      },
      "execution_count": null,
      "outputs": []
    },
    {
      "cell_type": "code",
      "source": [
        "#print  the new list"
      ],
      "metadata": {
        "id": "FB1OkzkTcIfa"
      },
      "execution_count": null,
      "outputs": []
    },
    {
      "cell_type": "code",
      "source": [
        "#append an item to the end of the list\n",
        "\n",
        "#print off the new list"
      ],
      "metadata": {
        "id": "9nHzKlzZcKs0"
      },
      "execution_count": null,
      "outputs": []
    },
    {
      "cell_type": "code",
      "source": [
        "# add multiple items to the end of a list with extend and another list\n",
        "\n",
        "#check the new length"
      ],
      "metadata": {
        "id": "TwUe0bQNcOFf"
      },
      "execution_count": null,
      "outputs": []
    },
    {
      "cell_type": "code",
      "source": [
        "#assign a list of dog breeds to variable \n",
        "\n",
        "#print the third entry in the list of dogs\n"
      ],
      "metadata": {
        "id": "C6YL8ckR0ZoM"
      },
      "execution_count": null,
      "outputs": []
    },
    {
      "cell_type": "code",
      "source": [
        "#assign a list of animals to variable list_of_safari\n",
        "\n",
        "#print the first entry in the list\n",
        "\n",
        "#change the second entry in the list and print it\n"
      ],
      "metadata": {
        "id": "kZcQkTIZ3m9l"
      },
      "execution_count": null,
      "outputs": []
    },
    {
      "cell_type": "code",
      "source": [
        "#you can also access the values from a negative index \n",
        "#for example list_of_safari can be accessed [-3] --> [-1]\n",
        "\n",
        "#print of the second to last entry in the list\n"
      ],
      "metadata": {
        "id": "XtT0VhgQ-jQq"
      },
      "execution_count": null,
      "outputs": []
    },
    {
      "cell_type": "markdown",
      "source": [
        "## Loops "
      ],
      "metadata": {
        "id": "puoowQLSPOBI"
      }
    },
    {
      "cell_type": "markdown",
      "source": [
        "A for loop can be used to access the elements in a list or other Python data structure one at a time. We will learn about loops in another lesson.\n",
        "\n",
        "Indentation is very important in Python. Note that the second line in the example above is indented, indicating the code that is the body of the loop.\n",
        "\n",
        "\n"
      ],
      "metadata": {
        "id": "TBoJxiBtcYLG"
      }
    },
    {
      "cell_type": "code",
      "source": [
        "list_of_numbers=[6,4,5]\n",
        "for num in list_of_numbers:\n",
        "  print(num)"
      ],
      "metadata": {
        "id": "tTq5oNiFcU0w"
      },
      "execution_count": null,
      "outputs": []
    },
    {
      "cell_type": "markdown",
      "source": [
        "\n",
        "To find out what methods are available for an object, we can use the built-in help command:\n",
        "\n"
      ],
      "metadata": {
        "id": "Tf9gHOrwce2s"
      }
    },
    {
      "cell_type": "code",
      "source": [
        "#help of list\n",
        "help(list_of_numbers)"
      ],
      "metadata": {
        "id": "sm--S9IGAWkU"
      },
      "execution_count": null,
      "outputs": []
    },
    {
      "cell_type": "markdown",
      "source": [
        "## Tuples"
      ],
      "metadata": {
        "id": "FI0U4jefPQa-"
      }
    },
    {
      "cell_type": "markdown",
      "source": [
        "A tuple is similar to a list in that it's an ordered sequence of elements. However, tuples can not be changed once created (they are \"immutable\"). Tuples are created by placing comma-separated values inside parentheses ().\n",
        "\n"
      ],
      "metadata": {
        "id": "P1nQMflKcv-1"
      }
    },
    {
      "cell_type": "code",
      "source": [
        "# create a new tuple e.g. tuples_are_immutable = (\"bar\", 100, 200, \"foo\")\n"
      ],
      "metadata": {
        "id": "Af3sx41Jct5f"
      },
      "execution_count": null,
      "outputs": []
    },
    {
      "cell_type": "code",
      "source": [
        "#print one element of tuple"
      ],
      "metadata": {
        "id": "_xpBUGdudTpb"
      },
      "execution_count": null,
      "outputs": []
    },
    {
      "cell_type": "code",
      "source": [
        "#reassign a different value to element of a tuple"
      ],
      "metadata": {
        "id": "9TxahFfrdTax"
      },
      "execution_count": null,
      "outputs": []
    },
    {
      "cell_type": "markdown",
      "source": [
        "## Dictionary\n",
        "\n",
        "Dictionaries are a container that store key-value pairs. They are unordered.\n",
        "\n",
        "The `items` method returns a sequence of the key-value pairs as tuples. `values` returns a sequence of just the values. `keys` reutrns a sequence of just the keys.\n",
        "\n",
        "\n"
      ],
      "metadata": {
        "id": "1LM_XFaQPSgi"
      }
    },
    {
      "cell_type": "code",
      "source": [
        "#form a new dictionary e.g. dogma = {'DNA': 1, 'RNA': 2, 'Protein': 3, 'key':5}\n"
      ],
      "metadata": {
        "id": "_Iun9Frrcuda"
      },
      "execution_count": null,
      "outputs": []
    },
    {
      "cell_type": "code",
      "source": [
        "#print the value of the dictionary using the key DNA"
      ],
      "metadata": {
        "id": "0_qSvnr-fNE-"
      },
      "execution_count": null,
      "outputs": []
    },
    {
      "cell_type": "code",
      "source": [
        "#reassign the value of RNA in the dictionary"
      ],
      "metadata": {
        "id": "YlVIvMx1fVUm"
      },
      "execution_count": null,
      "outputs": []
    },
    {
      "cell_type": "code",
      "source": [
        "#print the values only"
      ],
      "metadata": {
        "id": "FAEm4H-Yfzk1"
      },
      "execution_count": null,
      "outputs": []
    },
    {
      "cell_type": "code",
      "source": [
        "#print the items in the list"
      ],
      "metadata": {
        "id": "ocrNj0XH6D6a"
      },
      "execution_count": null,
      "outputs": []
    },
    {
      "cell_type": "code",
      "source": [
        "#print the keys only"
      ],
      "metadata": {
        "id": "0RTunIJaf2XO"
      },
      "execution_count": null,
      "outputs": []
    },
    {
      "cell_type": "code",
      "source": [
        "#get the length of the dictionary"
      ],
      "metadata": {
        "id": "NB4DlLTff52K"
      },
      "execution_count": null,
      "outputs": []
    },
    {
      "cell_type": "code",
      "source": [
        "# create a layered dictionary e.g. dict_of_dicts = {'first': {1:2, 2: 4, 4: 8, 8: 16}, 'second': {'a': 2.2, 'b': 4.4}}"
      ],
      "metadata": {
        "id": "hmnGn9Wnf9Vq"
      },
      "execution_count": null,
      "outputs": []
    },
    {
      "cell_type": "markdown",
      "source": [
        "5 min into groups\n",
        "\n",
        "Poll Time\n",
        "Your vote counts!!!! 🗳️\n",
        " \n",
        "jam_ratings = {'Plum': 6, 'Apricot': 2, 'Strawberry': 8}\n",
        "\n",
        "\n",
        "How would you change the value associated with the key Apricot to 9.\n",
        "\n",
        "- jam_ratings = {'apricot': 9}\n",
        "- jam_ratings[9] = 'Apricot'\n",
        "- jam_ratings['Apricot'] = 9\n",
        "- jam_ratings[2] = 'Apricot'"
      ],
      "metadata": {
        "id": "orfpWoUQgFvH"
      }
    }
  ]
}