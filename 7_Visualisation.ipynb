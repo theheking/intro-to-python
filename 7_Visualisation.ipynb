{
  "nbformat": 4,
  "nbformat_minor": 0,
  "metadata": {
    "colab": {
      "provenance": [],
      "include_colab_link": true
    },
    "kernelspec": {
      "name": "python3",
      "display_name": "Python 3"
    },
    "language_info": {
      "name": "python"
    }
  },
  "cells": [
    {
      "cell_type": "markdown",
      "metadata": {
        "id": "view-in-github",
        "colab_type": "text"
      },
      "source": [
        "<a href=\"https://colab.research.google.com/github/theheking/intro-to-python/blob/gh-pages/7_Visualisation.ipynb\" target=\"_parent\"><img src=\"https://colab.research.google.com/assets/colab-badge.svg\" alt=\"Open In Colab\"/></a>"
      ]
    },
    {
      "cell_type": "markdown",
      "source": [
        "\n",
        "# Visualisation with Seaborn and Matlib pyplot\n",
        "\n",
        "Python has a number of powerful plotting libraries to choose from. One of the oldest and most popular is matplotlib\n",
        "\n",
        "The Grammar of Graphics\n",
        "1. Statistical graphics is a mapping from data to aesthetic attributes (colour, shape, size) of geometric objects (points, lines, bars)\n",
        "\n",
        "2. Faceting can be used to generate the same plot for different subsets of the dataset\n",
        "\n",
        "\n",
        "#Great resources include:\n",
        "- https://s3.amazonaws.com/assets.datacamp.com/blog_assets/Python_Seaborn_Cheat_Sheet.pdf\n",
        "\n",
        "- https://seaborn.pydata.org/examples/index.html\n",
        "\n",
        "- https://www.python-graph-gallery.com/\n"
      ],
      "metadata": {
        "id": "gqa4J3G2Nz0c"
      }
    },
    {
      "cell_type": "code",
      "source": [
        "!pip install pandas matplotlib seaborn\n"
      ],
      "metadata": {
        "id": "onNOzQE0NysE"
      },
      "execution_count": null,
      "outputs": []
    },
    {
      "cell_type": "code",
      "execution_count": null,
      "metadata": {
        "id": "CG8OggH7NMIU"
      },
      "outputs": [],
      "source": [
        "import numpy as np\n",
        "import pandas as pd\n",
        "import seaborn as sns\n",
        "import matplotlib.pyplot as plt\n",
        "import urllib.request"
      ]
    },
    {
      "cell_type": "markdown",
      "source": [
        "Basic steps of creating plots with Seaborn are:\n",
        "1. Prepare some data\n",
        "2. Control figure aesthetics \n",
        "3. Plot with seaborn\n",
        "4. Further customize your plot"
      ],
      "metadata": {
        "id": "dLursvj1TuYl"
      }
    },
    {
      "cell_type": "code",
      "source": [
        "# create the dataframe\n",
        "# initalise random state\n",
        "rng = np.random.RandomState(0)\n",
        "x = np.linspace(0, 10, 500)\n",
        "y = np.cumsum(rng.randn(500, 6), 0)\n"
      ],
      "metadata": {
        "id": "d8rpFufsOhJ5"
      },
      "execution_count": null,
      "outputs": []
    },
    {
      "cell_type": "code",
      "source": [
        "# plot the data with matplotlib defaults plt.plot(x, y) and using plt.legend('ABCDEF', ncol=2, loc='upper left');\n"
      ],
      "metadata": {
        "id": "tKR9eoSRO-ik"
      },
      "execution_count": null,
      "outputs": []
    },
    {
      "cell_type": "code",
      "source": [
        "#we will recreate that same plot from matplot.pyplot with seaborn!\n",
        "#the sns plot\n",
        "sns.set()\n",
        "dataframe=pd.DataFrame(y, index=x)\n",
        "\n",
        "# same plotting code as above! \n",
        "sns.lineplot(dataframe)\n",
        "\n",
        "#set the legend\n",
        "plt.legend('ABCDEF', ncol=2, loc='upper left');\n"
      ],
      "metadata": {
        "id": "H3fzjBIDwhr1"
      },
      "execution_count": null,
      "outputs": []
    },
    {
      "cell_type": "markdown",
      "source": [
        "# Forming a Seaborn plot using our data\n",
        "It provides high-level commands to create a variety of plot types.\n",
        "\n",
        "Need to define\n",
        "- data -> dataframe \n",
        "- x --> string with the name of column\n",
        "- y --> string with the name of column\n",
        "- hue \n",
        "- size\n"
      ],
      "metadata": {
        "id": "fLRXO8z9Prqe"
      }
    },
    {
      "cell_type": "code",
      "source": [
        "url = 'https://raw.githubusercontent.com/theheking/intro-to-python/gh-pages/docs/patient_data.csv'\n",
        "#retrieve the file\n",
        "\n",
        "urllib.request.urlretrieve(url, 'patient_data.csv')\n",
        "patient_df=pd.read_csv('patient_data.csv')"
      ],
      "metadata": {
        "id": "wc1NgX1SsF4L"
      },
      "execution_count": null,
      "outputs": []
    },
    {
      "cell_type": "code",
      "source": [
        "#control figure aesthetics use set_style with white, darkgrid, whitegrid, dark, ticks"
      ],
      "metadata": {
        "id": "2Js9J0D1P5h8"
      },
      "execution_count": null,
      "outputs": []
    },
    {
      "cell_type": "markdown",
      "source": [
        "Another great extension for imporvement of aesthetics are: https://seaborn.pydata.org/tutorial/aesthetics.html"
      ],
      "metadata": {
        "id": "tPzfUvgNUdb4"
      }
    },
    {
      "cell_type": "code",
      "source": [
        "##plot a scatterplot of weight and day for patient_df assign to variable g\n",
        "\n",
        "##add in other infomation such as title, axis labels, limits\n"
      ],
      "metadata": {
        "id": "U6jFBQ5rUZkP"
      },
      "execution_count": null,
      "outputs": []
    },
    {
      "cell_type": "code",
      "source": [
        "# lets add some infomation about species and year using the hue and size  sns.scatterplot(data=patient_df, x=\"weight\", y=\"day\", size=\"sex\", hue=\"illness\")\n",
        "#but as you can see this is a pretty ugly and uninformative plot"
      ],
      "metadata": {
        "id": "4dfgZFD0QEXK"
      },
      "execution_count": null,
      "outputs": []
    },
    {
      "cell_type": "markdown",
      "source": [
        "#Customising the legend"
      ],
      "metadata": {
        "id": "VZPqGKTrXona"
      }
    },
    {
      "cell_type": "code",
      "source": [
        "#remove the legend using the legend flag"
      ],
      "metadata": {
        "id": "EH9x62p7QViV"
      },
      "execution_count": null,
      "outputs": []
    },
    {
      "cell_type": "markdown",
      "source": [
        "\n",
        "You can also use the bbox_to_anchor() argument to place the legend outside of the plot. For example, you can use the following syntax to place the legend in the top right corner outside of the plot:\n"
      ],
      "metadata": {
        "id": "7dLceLoeSY08"
      }
    },
    {
      "cell_type": "code",
      "source": [
        "# use legend function with flag bbox_to_anchor, ncol, and loc"
      ],
      "metadata": {
        "id": "c8GWKEtMSbFF"
      },
      "execution_count": null,
      "outputs": []
    },
    {
      "cell_type": "markdown",
      "source": [
        "# Change the colours using the Palette Function\n",
        "![image.png](data:image/png;base64,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)"
      ],
      "metadata": {
        "id": "1KKgHOqXWqYs"
      }
    },
    {
      "cell_type": "code",
      "source": [
        "##if you want to check them out\n",
        "# Save a palette to a variable: palette = sns.color_palette(\"bright\")\n",
        "\n",
        "# Use palplot and pass in the variable: sns.palplot(palette)\n"
      ],
      "metadata": {
        "id": "K-qxqtX4VdTo"
      },
      "execution_count": null,
      "outputs": []
    },
    {
      "cell_type": "code",
      "source": [
        "##change the colours using palette arguement\n"
      ],
      "metadata": {
        "id": "fdxgIqEUTHOY"
      },
      "execution_count": null,
      "outputs": []
    },
    {
      "cell_type": "markdown",
      "source": [
        "# Forming a count bar plot\n",
        "This is when we need to start asking questions about our data...\n",
        "\n",
        "Is there a change in the number of patients we have at each site?\n"
      ],
      "metadata": {
        "id": "o8IiVTOOX-Nl"
      }
    },
    {
      "cell_type": "code",
      "source": [
        "#use countplot to visualise the number of patients with siteid, use xticks with rotation=90"
      ],
      "metadata": {
        "id": "CB4QAgBhXzQx"
      },
      "execution_count": null,
      "outputs": []
    },
    {
      "cell_type": "code",
      "source": [
        "#do the same visualisation but using matplot.pyplot\n",
        "#patient_df[[\"site_id\", \"illness\"]].value_counts().unstack().plot(kind='bar', stacked=True) move the legend to outside"
      ],
      "metadata": {
        "id": "ubyewZnbbjxr"
      },
      "execution_count": null,
      "outputs": []
    },
    {
      "cell_type": "code",
      "source": [
        "#move the legend to the outside \n"
      ],
      "metadata": {
        "id": "3eIiZpZobatp"
      },
      "execution_count": null,
      "outputs": []
    },
    {
      "cell_type": "code",
      "source": [
        "#use countplot to visualise the different sexes with the number of patients with siteid, use xticks with rotation=90\n"
      ],
      "metadata": {
        "id": "01KoKhw2cpvw"
      },
      "execution_count": null,
      "outputs": []
    },
    {
      "cell_type": "markdown",
      "source": [
        "# Challenges\n",
        "1) Produce a plot comparing the number of observations for every sex at each site. \n",
        "\n"
      ],
      "metadata": {
        "id": "9pCaFwKqZmSj"
      }
    },
    {
      "cell_type": "markdown",
      "source": [
        "\n",
        "2) Use a boxplot to visualise the weight across sex. \n",
        "\n",
        "- HINT: There's a list of plot types available from the cheatsheet\n",
        "\n"
      ],
      "metadata": {
        "id": "R9jCaoWopW5t"
      }
    },
    {
      "cell_type": "markdown",
      "source": [
        "# Violin Plots are an alternative to boxplots...\n",
        "\n",
        "- Boxplot has four main features about a variable: center, spread, asymmetry, and outlier\n",
        "\n",
        "- Violin plot shows density too \n",
        "\n",
        "Here we will show extra things to develop your plot\n",
        "- orientation\n",
        "- increasing size of the figure\n",
        "- split\n",
        "- save an image for later"
      ],
      "metadata": {
        "id": "clpni0kxdjyu"
      }
    },
    {
      "cell_type": "code",
      "source": [
        "#set the figure size \n",
        "sns.set(rc={'figure.figsize':(20.7,8.27)})\n",
        "\n",
        "# make a violinplot of illness against weight \n",
        "# test out split=True, hue=\"sex\", \n",
        "\n",
        "\n",
        "\n",
        "\n"
      ],
      "metadata": {
        "id": "3anOKvb_gG-D"
      },
      "execution_count": null,
      "outputs": []
    },
    {
      "cell_type": "markdown",
      "source": [
        "# Save an image \n",
        "When saving a figure think about\n"
      ],
      "metadata": {
        "id": "sqX67BftdKyf"
      }
    },
    {
      "cell_type": "code",
      "source": [
        "#save the same dataframe\n",
        "g = sns.violinplot(data=patient_df, x=\"illness\", y=\"weight\", split=True, orient=\"v\", hue=\"sex\")\n",
        "#create a string and save the image\n",
        "location_string=\"nameofigure.jpeg\"\n",
        "plt.savefig(location_string, transparent =False)\n"
      ],
      "metadata": {
        "id": "Ri449-OKn5tg"
      },
      "execution_count": null,
      "outputs": []
    },
    {
      "cell_type": "markdown",
      "source": [
        "# Challenge\n",
        "\n",
        "- Can you log2 transform weight and plot a \"normalised\" boxplot ? Hint: use np.log2() function and name new column weight_log.\n",
        "\n",
        "- Does a log2 transform make this data visualisation better ?\n",
        "\n"
      ],
      "metadata": {
        "id": "Unz_-CXadOzT"
      }
    },
    {
      "cell_type": "markdown",
      "source": [
        "\n",
        "Let's see whether there is any correlation any of the variables! We'll do this using a pairgrid, which draws plots of all these correlations:"
      ],
      "metadata": {
        "id": "heOZRbILdTgv"
      }
    },
    {
      "cell_type": "code",
      "source": [
        "g = sns.PairGrid(patient_df, vars=['day','site_id','weight'],\n",
        "                 palette='RdBu_r')\n",
        "g.map(plt.scatter, alpha=0.8)\n",
        "g.add_legend();\n",
        "# NB. our data is not that useful"
      ],
      "metadata": {
        "id": "ITKpF3jjni_A"
      },
      "execution_count": null,
      "outputs": []
    }
  ]
}