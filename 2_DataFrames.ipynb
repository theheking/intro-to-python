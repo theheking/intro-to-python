{
  "nbformat": 4,
  "nbformat_minor": 0,
  "metadata": {
    "colab": {
      "provenance": [],
      "include_colab_link": true
    },
    "kernelspec": {
      "name": "python3",
      "display_name": "Python 3"
    },
    "language_info": {
      "name": "python"
    }
  },
  "cells": [
    {
      "cell_type": "markdown",
      "metadata": {
        "id": "view-in-github",
        "colab_type": "text"
      },
      "source": [
        "<a href=\"https://colab.research.google.com/github/theheking/intro-to-python/blob/gh-pages/2_DataFrames.ipynb\" target=\"_parent\"><img src=\"https://colab.research.google.com/assets/colab-badge.svg\" alt=\"Open In Colab\"/></a>"
      ]
    },
    {
      "cell_type": "markdown",
      "source": [
        "## Introducing... the DataFrame \n",
        "\n",
        "Objectives:\n",
        "- Familiarise ourself with pandas\n",
        "- Download data from a csv file into a dataframe\n",
        "- Calculate statistics from the dataframe\n",
        "\n"
      ],
      "metadata": {
        "id": "nYjE9gtl4iq-"
      }
    },
    {
      "cell_type": "code",
      "source": [
        "# Download a file using python woo!\n",
        "import urllib.request # this is the library we need \n",
        "\n",
        "url = 'https://raw.githubusercontent.com/theheking/intro-to-python/gh-pages/docs/patient_data.csv'\n",
        "# This is getting the file\n",
        "\n",
        "urllib.request.urlretrieve(url, 'patient_data.csv')"
      ],
      "metadata": {
        "id": "nE89yMkh4cPE"
      },
      "execution_count": null,
      "outputs": []
    },
    {
      "cell_type": "code",
      "source": [
        "urllib.request.urlretrieve(url, 'patient_data.csv')"
      ],
      "metadata": {
        "id": "qVzl2Af_kZ-8"
      },
      "execution_count": null,
      "outputs": []
    },
    {
      "cell_type": "markdown",
      "source": [
        "Next let's install the required packages for this workshop, by using ! we download and install directly into the notebook."
      ],
      "metadata": {
        "id": "6nmk5yi84-zq"
      }
    },
    {
      "cell_type": "code",
      "source": [
        "! pip install pandas matplotlib seaborn\n"
      ],
      "metadata": {
        "id": "RaLlw4AqkpKl"
      },
      "execution_count": null,
      "outputs": []
    },
    {
      "cell_type": "markdown",
      "source": [
        "Pandas is a package. Packages are where functions are stored. You have to load a package in order to use the functions found within it. "
      ],
      "metadata": {
        "id": "6KdK6K9FxNoH"
      }
    },
    {
      "cell_type": "code",
      "source": [
        "#import pandas as a package\n",
        "\n",
        "#read in the patient data but do not assign it to a variable"
      ],
      "metadata": {
        "id": "1BBDwsX2kfxl"
      },
      "execution_count": null,
      "outputs": []
    },
    {
      "cell_type": "code",
      "source": [
        "#read in the patient data but do not assign it to a variable (patient_df)\n",
        "\n"
      ],
      "metadata": {
        "id": "vNFIQocr5THV"
      },
      "execution_count": null,
      "outputs": []
    },
    {
      "cell_type": "code",
      "source": [
        "# check the type of the DF and its content using type and dtypes \n"
      ],
      "metadata": {
        "id": "AxC8uQgq5j9I"
      },
      "execution_count": null,
      "outputs": []
    },
    {
      "cell_type": "markdown",
      "source": [
        "## Accessing the data from the data frame\n",
        "\n",
        "Now we have the data, we need to use pandas as a way of processing it. Checking out the documentation is always super helpful (https://pandas.pydata.org/docs/)! \n",
        "\n",
        "Thankfully with programming you will not have a closed book test ever so really capitalise on the resources you have online. \n",
        "\n",
        "\n"
      ],
      "metadata": {
        "id": "m8vXVMpM5ux1"
      }
    },
    {
      "cell_type": "code",
      "source": [
        "? pd.DataFrame.head"
      ],
      "metadata": {
        "id": "93wPtARZ69Kb"
      },
      "execution_count": null,
      "outputs": []
    },
    {
      "cell_type": "code",
      "source": [
        "#Subset the first 20 rows of the dataframe \n"
      ],
      "metadata": {
        "id": "otMTQDCC5_-I"
      },
      "execution_count": null,
      "outputs": []
    },
    {
      "cell_type": "code",
      "source": [
        "#Subset the last 10 rows of the dataframe\n"
      ],
      "metadata": {
        "id": "1XK9dLdD6p3s"
      },
      "execution_count": null,
      "outputs": []
    },
    {
      "cell_type": "code",
      "source": [
        "#finding the columns in the dataframe"
      ],
      "metadata": {
        "id": "2SIK-qm67IQF"
      },
      "execution_count": null,
      "outputs": []
    },
    {
      "cell_type": "markdown",
      "source": [
        "## Calculating Statistics From Data\n",
        "\n",
        "So now the fun begins! You have to handle columns depending on what is in the column."
      ],
      "metadata": {
        "id": "CF1nalit7Cmn"
      }
    },
    {
      "cell_type": "code",
      "source": [
        "# find unique data within categorical column-  illness using pd.unique\n"
      ],
      "metadata": {
        "id": "y9qJMTVe7Mse"
      },
      "execution_count": null,
      "outputs": []
    },
    {
      "cell_type": "code",
      "source": [
        "#find the counts of all those unique values using value_counts()\n"
      ],
      "metadata": {
        "id": "nLN5CmJc5Q-e"
      },
      "execution_count": null,
      "outputs": []
    },
    {
      "cell_type": "code",
      "source": [
        "#find data summaries of site id column using describe \n"
      ],
      "metadata": {
        "id": "vYh66SuK7eK7"
      },
      "execution_count": null,
      "outputs": []
    },
    {
      "cell_type": "code",
      "source": [
        "#  extract specific values from weight column using min, max, mean, std, count\n"
      ],
      "metadata": {
        "id": "uQKU4z2T7pj9"
      },
      "execution_count": null,
      "outputs": []
    },
    {
      "cell_type": "markdown",
      "source": [
        "## Creating stats\n",
        "\n",
        "Next we might want to create statistics on a subset of the data, for example, what is the weight if we subset first by sex?"
      ],
      "metadata": {
        "id": "T7mbQDJX73XV"
      }
    },
    {
      "cell_type": "code",
      "source": [
        "# group data by sex and assign to new variable grouped_data\n",
        "\n",
        "# Summary statistics for all numeric columns by sex\n",
        "print(grouped_data.describe())\n"
      ],
      "metadata": {
        "id": "QV3TK2mj8AYi"
      },
      "execution_count": null,
      "outputs": []
    },
    {
      "cell_type": "code",
      "source": [
        "# provide the mean for each numeric column by sex\n"
      ],
      "metadata": {
        "id": "Yfk4NeoS10aS"
      },
      "execution_count": null,
      "outputs": []
    },
    {
      "cell_type": "markdown",
      "source": [
        "## Challenge - Summary Data\n",
        "\n",
        "How many patients are female F and how many male M:  \n",
        "```\n",
        "A) 519 and 507\n",
        "B) 507 and 519 \n",
        "C) 509 and 507\n",
        "D) 400 and 412\n",
        "```\n",
        "\n",
        "What happens when you group by two columns using the following syntax and then grab mean values:\n",
        "```\n",
        "grouped_data2 = patient_df.groupby(['site_id','sex'])\n",
        "grouped_data2.mean()\n",
        "```\n",
        "Summarize weight values for each site in your data. HINT: you can use the following syntax to only create summary statistics for one column in your `data by_site['weight'].describe()`\n",
        "\n"
      ],
      "metadata": {
        "id": "NbkMlSWD8O7s"
      }
    },
    {
      "cell_type": "code",
      "source": [
        "grouped_data.describe()\n",
        "\n",
        "grouped_data2 = patient_df.groupby(['site_id','sex'])\n",
        "grouped_data2.mean()\n",
        "grouped_data2['weight'].describe()"
      ],
      "metadata": {
        "id": "QJUgbZvq8GGB"
      },
      "execution_count": null,
      "outputs": []
    },
    {
      "cell_type": "markdown",
      "source": [
        "## Summary Counts in Pandas\n",
        "First we number of patients for each . We can do this in a few ways, but we'll use groupby combined with a `count()` method.\n"
      ],
      "metadata": {
        "id": "FXxQBMkS86mk"
      }
    },
    {
      "cell_type": "code",
      "source": [
        "# Count the number of patients per illness using groupby and count\n"
      ],
      "metadata": {
        "id": "875qxwGT9FHW"
      },
      "execution_count": null,
      "outputs": []
    },
    {
      "cell_type": "markdown",
      "source": [
        "## Basic Math Functions\n",
        "\n",
        "The nice thing about dataframes is that you can do math on them really easily which is awesome! \n",
        "\n",
        "So we can calculate the difference between columns, multiply them etc."
      ],
      "metadata": {
        "id": "HZ1YfeGG9LdK"
      }
    },
    {
      "cell_type": "code",
      "source": [
        "# Multiply all weight values by 2 but do not change the original weight data"
      ],
      "metadata": {
        "id": "DvJW0ztn9KV3"
      },
      "execution_count": null,
      "outputs": []
    },
    {
      "cell_type": "code",
      "source": [
        "#create a new column by multiplying together the weight and the site id\n",
        "\n",
        "#print it off "
      ],
      "metadata": {
        "id": "aKyhMsbP9dOb"
      },
      "execution_count": null,
      "outputs": []
    }
  ]
}