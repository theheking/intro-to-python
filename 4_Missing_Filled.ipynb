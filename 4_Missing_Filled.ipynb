{
  "nbformat": 4,
  "nbformat_minor": 0,
  "metadata": {
    "colab": {
      "provenance": [],
      "include_colab_link": true
    },
    "kernelspec": {
      "name": "python3",
      "display_name": "Python 3"
    },
    "language_info": {
      "name": "python"
    }
  },
  "cells": [
    {
      "cell_type": "markdown",
      "metadata": {
        "id": "view-in-github",
        "colab_type": "text"
      },
      "source": [
        "<a href=\"https://colab.research.google.com/github/theheking/intro-to-python/blob/gh-pages/4_Missing_Filled.ipynb\" target=\"_parent\"><img src=\"https://colab.research.google.com/assets/colab-badge.svg\" alt=\"Open In Colab\"/></a>"
      ]
    },
    {
      "cell_type": "markdown",
      "source": [
        "## Dealing with missing data\n",
        "\n",
        "Most real-world data has lots of missing values, and this can be an issue; in this notebook, we'll go through how to deal with missing data.\n",
        "\n",
        "Objectives\n",
        "1. What NaN values are\n",
        "2. How they might be represented\n",
        "3. What this means for your work\n",
        "4. How to replace NaN values, if desired\n",
        "5. How to use to_csv to write manipulated data to a file.\n",
        "\n",
        "\n"
      ],
      "metadata": {
        "id": "UIOSx0n2APCV"
      }
    },
    {
      "cell_type": "code",
      "execution_count": 1,
      "metadata": {
        "colab": {
          "base_uri": "https://localhost:8080/"
        },
        "id": "ATmp4cjkAIgB",
        "outputId": "fbef19f0-7aef-40be-d7fc-4fc0790a1cfc"
      },
      "outputs": [
        {
          "output_type": "stream",
          "name": "stdout",
          "text": [
            "Looking in indexes: https://pypi.org/simple, https://us-python.pkg.dev/colab-wheels/public/simple/\n",
            "Requirement already satisfied: pandas in /usr/local/lib/python3.10/dist-packages (1.5.3)\n",
            "Requirement already satisfied: matplotlib in /usr/local/lib/python3.10/dist-packages (3.7.1)\n",
            "Requirement already satisfied: python-dateutil>=2.8.1 in /usr/local/lib/python3.10/dist-packages (from pandas) (2.8.2)\n",
            "Requirement already satisfied: pytz>=2020.1 in /usr/local/lib/python3.10/dist-packages (from pandas) (2022.7.1)\n",
            "Requirement already satisfied: numpy>=1.21.0 in /usr/local/lib/python3.10/dist-packages (from pandas) (1.22.4)\n",
            "Requirement already satisfied: contourpy>=1.0.1 in /usr/local/lib/python3.10/dist-packages (from matplotlib) (1.0.7)\n",
            "Requirement already satisfied: cycler>=0.10 in /usr/local/lib/python3.10/dist-packages (from matplotlib) (0.11.0)\n",
            "Requirement already satisfied: fonttools>=4.22.0 in /usr/local/lib/python3.10/dist-packages (from matplotlib) (4.39.3)\n",
            "Requirement already satisfied: kiwisolver>=1.0.1 in /usr/local/lib/python3.10/dist-packages (from matplotlib) (1.4.4)\n",
            "Requirement already satisfied: packaging>=20.0 in /usr/local/lib/python3.10/dist-packages (from matplotlib) (23.1)\n",
            "Requirement already satisfied: pillow>=6.2.0 in /usr/local/lib/python3.10/dist-packages (from matplotlib) (8.4.0)\n",
            "Requirement already satisfied: pyparsing>=2.3.1 in /usr/local/lib/python3.10/dist-packages (from matplotlib) (3.0.9)\n",
            "Requirement already satisfied: six>=1.5 in /usr/local/lib/python3.10/dist-packages (from python-dateutil>=2.8.1->pandas) (1.16.0)\n"
          ]
        }
      ],
      "source": [
        "!pip install pandas matplotlib # install the packages directly into the notebook\n"
      ]
    },
    {
      "cell_type": "markdown",
      "source": [
        "Make sure the libraries are loaded and we have the data we need.\n"
      ],
      "metadata": {
        "id": "6oivEcqFAb6D"
      }
    },
    {
      "cell_type": "code",
      "source": [
        "# Download a file using python\n",
        "import urllib.request # this is the library we need \n",
        "\n",
        "url = 'https://raw.githubusercontent.com/theheking/intro-to-python/gh-pages/docs/patient_data.csv'\n",
        "#retrieve the file\n",
        "\n",
        "urllib.request.urlretrieve(url, 'patient_data.csv')\n",
        "\n",
        "#import pandas as a package\n",
        "import pandas as pd \n",
        "\n",
        "#read in the patient data \n",
        "patient_df=pd.read_csv('patient_data.csv', sep=',')"
      ],
      "metadata": {
        "id": "Ygfrp8jeAe8w"
      },
      "execution_count": 2,
      "outputs": []
    },
    {
      "cell_type": "markdown",
      "source": [
        "### Finding Missing Values\n",
        "Let's identify all locations in the data that have null (missing or NaN) data values. \n",
        "\n",
        "\n",
        "We can use the `isnull` method to do this. The `isnull` method will compare each cell with a null value. If an element has a null value, it will be assigned a value of `True` in the output object."
      ],
      "metadata": {
        "id": "FQl1xotNA93R"
      }
    },
    {
      "cell_type": "code",
      "source": [
        "pd.isnull(patient_df).head()\n"
      ],
      "metadata": {
        "colab": {
          "base_uri": "https://localhost:8080/",
          "height": 206
        },
        "id": "-Lf-YQcvBDYO",
        "outputId": "231bbe87-69f5-4cfb-b368-ba3d889a5aa4"
      },
      "execution_count": 3,
      "outputs": [
        {
          "output_type": "execute_result",
          "data": {
            "text/plain": [
              "   patient_id  site_id  gender   time   year  month    day  illness  weight\n",
              "0       False    False   False  False  False  False  False    False   False\n",
              "1       False    False   False  False  False  False  False    False   False\n",
              "2       False    False   False  False  False  False  False    False   False\n",
              "3       False    False   False  False  False  False  False    False    True\n",
              "4       False    False   False  False  False  False  False    False   False"
            ],
            "text/html": [
              "\n",
              "  <div id=\"df-9ce215bd-a49a-42bb-896c-f8ed353a3cef\">\n",
              "    <div class=\"colab-df-container\">\n",
              "      <div>\n",
              "<style scoped>\n",
              "    .dataframe tbody tr th:only-of-type {\n",
              "        vertical-align: middle;\n",
              "    }\n",
              "\n",
              "    .dataframe tbody tr th {\n",
              "        vertical-align: top;\n",
              "    }\n",
              "\n",
              "    .dataframe thead th {\n",
              "        text-align: right;\n",
              "    }\n",
              "</style>\n",
              "<table border=\"1\" class=\"dataframe\">\n",
              "  <thead>\n",
              "    <tr style=\"text-align: right;\">\n",
              "      <th></th>\n",
              "      <th>patient_id</th>\n",
              "      <th>site_id</th>\n",
              "      <th>gender</th>\n",
              "      <th>time</th>\n",
              "      <th>year</th>\n",
              "      <th>month</th>\n",
              "      <th>day</th>\n",
              "      <th>illness</th>\n",
              "      <th>weight</th>\n",
              "    </tr>\n",
              "  </thead>\n",
              "  <tbody>\n",
              "    <tr>\n",
              "      <th>0</th>\n",
              "      <td>False</td>\n",
              "      <td>False</td>\n",
              "      <td>False</td>\n",
              "      <td>False</td>\n",
              "      <td>False</td>\n",
              "      <td>False</td>\n",
              "      <td>False</td>\n",
              "      <td>False</td>\n",
              "      <td>False</td>\n",
              "    </tr>\n",
              "    <tr>\n",
              "      <th>1</th>\n",
              "      <td>False</td>\n",
              "      <td>False</td>\n",
              "      <td>False</td>\n",
              "      <td>False</td>\n",
              "      <td>False</td>\n",
              "      <td>False</td>\n",
              "      <td>False</td>\n",
              "      <td>False</td>\n",
              "      <td>False</td>\n",
              "    </tr>\n",
              "    <tr>\n",
              "      <th>2</th>\n",
              "      <td>False</td>\n",
              "      <td>False</td>\n",
              "      <td>False</td>\n",
              "      <td>False</td>\n",
              "      <td>False</td>\n",
              "      <td>False</td>\n",
              "      <td>False</td>\n",
              "      <td>False</td>\n",
              "      <td>False</td>\n",
              "    </tr>\n",
              "    <tr>\n",
              "      <th>3</th>\n",
              "      <td>False</td>\n",
              "      <td>False</td>\n",
              "      <td>False</td>\n",
              "      <td>False</td>\n",
              "      <td>False</td>\n",
              "      <td>False</td>\n",
              "      <td>False</td>\n",
              "      <td>False</td>\n",
              "      <td>True</td>\n",
              "    </tr>\n",
              "    <tr>\n",
              "      <th>4</th>\n",
              "      <td>False</td>\n",
              "      <td>False</td>\n",
              "      <td>False</td>\n",
              "      <td>False</td>\n",
              "      <td>False</td>\n",
              "      <td>False</td>\n",
              "      <td>False</td>\n",
              "      <td>False</td>\n",
              "      <td>False</td>\n",
              "    </tr>\n",
              "  </tbody>\n",
              "</table>\n",
              "</div>\n",
              "      <button class=\"colab-df-convert\" onclick=\"convertToInteractive('df-9ce215bd-a49a-42bb-896c-f8ed353a3cef')\"\n",
              "              title=\"Convert this dataframe to an interactive table.\"\n",
              "              style=\"display:none;\">\n",
              "        \n",
              "  <svg xmlns=\"http://www.w3.org/2000/svg\" height=\"24px\"viewBox=\"0 0 24 24\"\n",
              "       width=\"24px\">\n",
              "    <path d=\"M0 0h24v24H0V0z\" fill=\"none\"/>\n",
              "    <path d=\"M18.56 5.44l.94 2.06.94-2.06 2.06-.94-2.06-.94-.94-2.06-.94 2.06-2.06.94zm-11 1L8.5 8.5l.94-2.06 2.06-.94-2.06-.94L8.5 2.5l-.94 2.06-2.06.94zm10 10l.94 2.06.94-2.06 2.06-.94-2.06-.94-.94-2.06-.94 2.06-2.06.94z\"/><path d=\"M17.41 7.96l-1.37-1.37c-.4-.4-.92-.59-1.43-.59-.52 0-1.04.2-1.43.59L10.3 9.45l-7.72 7.72c-.78.78-.78 2.05 0 2.83L4 21.41c.39.39.9.59 1.41.59.51 0 1.02-.2 1.41-.59l7.78-7.78 2.81-2.81c.8-.78.8-2.07 0-2.86zM5.41 20L4 18.59l7.72-7.72 1.47 1.35L5.41 20z\"/>\n",
              "  </svg>\n",
              "      </button>\n",
              "      \n",
              "  <style>\n",
              "    .colab-df-container {\n",
              "      display:flex;\n",
              "      flex-wrap:wrap;\n",
              "      gap: 12px;\n",
              "    }\n",
              "\n",
              "    .colab-df-convert {\n",
              "      background-color: #E8F0FE;\n",
              "      border: none;\n",
              "      border-radius: 50%;\n",
              "      cursor: pointer;\n",
              "      display: none;\n",
              "      fill: #1967D2;\n",
              "      height: 32px;\n",
              "      padding: 0 0 0 0;\n",
              "      width: 32px;\n",
              "    }\n",
              "\n",
              "    .colab-df-convert:hover {\n",
              "      background-color: #E2EBFA;\n",
              "      box-shadow: 0px 1px 2px rgba(60, 64, 67, 0.3), 0px 1px 3px 1px rgba(60, 64, 67, 0.15);\n",
              "      fill: #174EA6;\n",
              "    }\n",
              "\n",
              "    [theme=dark] .colab-df-convert {\n",
              "      background-color: #3B4455;\n",
              "      fill: #D2E3FC;\n",
              "    }\n",
              "\n",
              "    [theme=dark] .colab-df-convert:hover {\n",
              "      background-color: #434B5C;\n",
              "      box-shadow: 0px 1px 3px 1px rgba(0, 0, 0, 0.15);\n",
              "      filter: drop-shadow(0px 1px 2px rgba(0, 0, 0, 0.3));\n",
              "      fill: #FFFFFF;\n",
              "    }\n",
              "  </style>\n",
              "\n",
              "      <script>\n",
              "        const buttonEl =\n",
              "          document.querySelector('#df-9ce215bd-a49a-42bb-896c-f8ed353a3cef button.colab-df-convert');\n",
              "        buttonEl.style.display =\n",
              "          google.colab.kernel.accessAllowed ? 'block' : 'none';\n",
              "\n",
              "        async function convertToInteractive(key) {\n",
              "          const element = document.querySelector('#df-9ce215bd-a49a-42bb-896c-f8ed353a3cef');\n",
              "          const dataTable =\n",
              "            await google.colab.kernel.invokeFunction('convertToInteractive',\n",
              "                                                     [key], {});\n",
              "          if (!dataTable) return;\n",
              "\n",
              "          const docLinkHtml = 'Like what you see? Visit the ' +\n",
              "            '<a target=\"_blank\" href=https://colab.research.google.com/notebooks/data_table.ipynb>data table notebook</a>'\n",
              "            + ' to learn more about interactive tables.';\n",
              "          element.innerHTML = '';\n",
              "          dataTable['output_type'] = 'display_data';\n",
              "          await google.colab.output.renderOutput(dataTable, element);\n",
              "          const docLink = document.createElement('div');\n",
              "          docLink.innerHTML = docLinkHtml;\n",
              "          element.appendChild(docLink);\n",
              "        }\n",
              "      </script>\n",
              "    </div>\n",
              "  </div>\n",
              "  "
            ]
          },
          "metadata": {},
          "execution_count": 3
        }
      ]
    },
    {
      "cell_type": "markdown",
      "source": [
        "## How to select rows with missing data\n",
        "\n",
        "To select the rows where there are null values, we can use the mask as an index to subset our data as follows:\n",
        "\n"
      ],
      "metadata": {
        "id": "F38CWPMPBIjv"
      }
    },
    {
      "cell_type": "code",
      "source": [
        "# To select only the rows with NaN values, we can use the 'any()' method\n",
        "patient_df[pd.isnull(patient_df).any(axis=1)]"
      ],
      "metadata": {
        "colab": {
          "base_uri": "https://localhost:8080/",
          "height": 423
        },
        "id": "L-Xpy3LcBHE8",
        "outputId": "b9f60c8b-e214-42d4-c1c6-3a4f061278e8"
      },
      "execution_count": 4,
      "outputs": [
        {
          "output_type": "execute_result",
          "data": {
            "text/plain": [
              "      patient_id  site_id gender      time    year  month   day  \\\n",
              "3              4        7      M   4:52 pm  2022.0    1.0  12.0   \n",
              "5              6        1      M   6:24 am  2022.0    2.0  12.0   \n",
              "10            11        5      F   2:14 pm  2022.0    3.0  12.0   \n",
              "12            13        3      M  11:08 pm  2022.0    3.0  12.0   \n",
              "13            14        8    NaN  11:35 pm  2022.0    3.0  12.0   \n",
              "...          ...      ...    ...       ...     ...    ...   ...   \n",
              "1178        1179       18      M  11:40 am  2022.0   11.0   1.0   \n",
              "1184        1185        1      F       NaN     NaN    NaN   NaN   \n",
              "1186        1187       16      F   4:00 pm  2022.0   11.0   8.0   \n",
              "1187        1188        1      M       NaN     NaN    NaN   NaN   \n",
              "1189        1190       13      M   8:05 am  2022.0   11.0  12.0   \n",
              "\n",
              "              illness  weight  \n",
              "3     aortic aneurysm     NaN  \n",
              "5             myeloma     NaN  \n",
              "10      hyponatraemia     NaN  \n",
              "12    neck dissection     NaN  \n",
              "13                NaN    92.0  \n",
              "...               ...     ...  \n",
              "1178              NaN     NaN  \n",
              "1184              MVA    56.0  \n",
              "1186              MVA     NaN  \n",
              "1187               pe     NaN  \n",
              "1189           nstemi     NaN  \n",
              "\n",
              "[442 rows x 9 columns]"
            ],
            "text/html": [
              "\n",
              "  <div id=\"df-59c0ed8d-00f7-4eb5-a20e-b7d045f5b495\">\n",
              "    <div class=\"colab-df-container\">\n",
              "      <div>\n",
              "<style scoped>\n",
              "    .dataframe tbody tr th:only-of-type {\n",
              "        vertical-align: middle;\n",
              "    }\n",
              "\n",
              "    .dataframe tbody tr th {\n",
              "        vertical-align: top;\n",
              "    }\n",
              "\n",
              "    .dataframe thead th {\n",
              "        text-align: right;\n",
              "    }\n",
              "</style>\n",
              "<table border=\"1\" class=\"dataframe\">\n",
              "  <thead>\n",
              "    <tr style=\"text-align: right;\">\n",
              "      <th></th>\n",
              "      <th>patient_id</th>\n",
              "      <th>site_id</th>\n",
              "      <th>gender</th>\n",
              "      <th>time</th>\n",
              "      <th>year</th>\n",
              "      <th>month</th>\n",
              "      <th>day</th>\n",
              "      <th>illness</th>\n",
              "      <th>weight</th>\n",
              "    </tr>\n",
              "  </thead>\n",
              "  <tbody>\n",
              "    <tr>\n",
              "      <th>3</th>\n",
              "      <td>4</td>\n",
              "      <td>7</td>\n",
              "      <td>M</td>\n",
              "      <td>4:52 pm</td>\n",
              "      <td>2022.0</td>\n",
              "      <td>1.0</td>\n",
              "      <td>12.0</td>\n",
              "      <td>aortic aneurysm</td>\n",
              "      <td>NaN</td>\n",
              "    </tr>\n",
              "    <tr>\n",
              "      <th>5</th>\n",
              "      <td>6</td>\n",
              "      <td>1</td>\n",
              "      <td>M</td>\n",
              "      <td>6:24 am</td>\n",
              "      <td>2022.0</td>\n",
              "      <td>2.0</td>\n",
              "      <td>12.0</td>\n",
              "      <td>myeloma</td>\n",
              "      <td>NaN</td>\n",
              "    </tr>\n",
              "    <tr>\n",
              "      <th>10</th>\n",
              "      <td>11</td>\n",
              "      <td>5</td>\n",
              "      <td>F</td>\n",
              "      <td>2:14 pm</td>\n",
              "      <td>2022.0</td>\n",
              "      <td>3.0</td>\n",
              "      <td>12.0</td>\n",
              "      <td>hyponatraemia</td>\n",
              "      <td>NaN</td>\n",
              "    </tr>\n",
              "    <tr>\n",
              "      <th>12</th>\n",
              "      <td>13</td>\n",
              "      <td>3</td>\n",
              "      <td>M</td>\n",
              "      <td>11:08 pm</td>\n",
              "      <td>2022.0</td>\n",
              "      <td>3.0</td>\n",
              "      <td>12.0</td>\n",
              "      <td>neck dissection</td>\n",
              "      <td>NaN</td>\n",
              "    </tr>\n",
              "    <tr>\n",
              "      <th>13</th>\n",
              "      <td>14</td>\n",
              "      <td>8</td>\n",
              "      <td>NaN</td>\n",
              "      <td>11:35 pm</td>\n",
              "      <td>2022.0</td>\n",
              "      <td>3.0</td>\n",
              "      <td>12.0</td>\n",
              "      <td>NaN</td>\n",
              "      <td>92.0</td>\n",
              "    </tr>\n",
              "    <tr>\n",
              "      <th>...</th>\n",
              "      <td>...</td>\n",
              "      <td>...</td>\n",
              "      <td>...</td>\n",
              "      <td>...</td>\n",
              "      <td>...</td>\n",
              "      <td>...</td>\n",
              "      <td>...</td>\n",
              "      <td>...</td>\n",
              "      <td>...</td>\n",
              "    </tr>\n",
              "    <tr>\n",
              "      <th>1178</th>\n",
              "      <td>1179</td>\n",
              "      <td>18</td>\n",
              "      <td>M</td>\n",
              "      <td>11:40 am</td>\n",
              "      <td>2022.0</td>\n",
              "      <td>11.0</td>\n",
              "      <td>1.0</td>\n",
              "      <td>NaN</td>\n",
              "      <td>NaN</td>\n",
              "    </tr>\n",
              "    <tr>\n",
              "      <th>1184</th>\n",
              "      <td>1185</td>\n",
              "      <td>1</td>\n",
              "      <td>F</td>\n",
              "      <td>NaN</td>\n",
              "      <td>NaN</td>\n",
              "      <td>NaN</td>\n",
              "      <td>NaN</td>\n",
              "      <td>MVA</td>\n",
              "      <td>56.0</td>\n",
              "    </tr>\n",
              "    <tr>\n",
              "      <th>1186</th>\n",
              "      <td>1187</td>\n",
              "      <td>16</td>\n",
              "      <td>F</td>\n",
              "      <td>4:00 pm</td>\n",
              "      <td>2022.0</td>\n",
              "      <td>11.0</td>\n",
              "      <td>8.0</td>\n",
              "      <td>MVA</td>\n",
              "      <td>NaN</td>\n",
              "    </tr>\n",
              "    <tr>\n",
              "      <th>1187</th>\n",
              "      <td>1188</td>\n",
              "      <td>1</td>\n",
              "      <td>M</td>\n",
              "      <td>NaN</td>\n",
              "      <td>NaN</td>\n",
              "      <td>NaN</td>\n",
              "      <td>NaN</td>\n",
              "      <td>pe</td>\n",
              "      <td>NaN</td>\n",
              "    </tr>\n",
              "    <tr>\n",
              "      <th>1189</th>\n",
              "      <td>1190</td>\n",
              "      <td>13</td>\n",
              "      <td>M</td>\n",
              "      <td>8:05 am</td>\n",
              "      <td>2022.0</td>\n",
              "      <td>11.0</td>\n",
              "      <td>12.0</td>\n",
              "      <td>nstemi</td>\n",
              "      <td>NaN</td>\n",
              "    </tr>\n",
              "  </tbody>\n",
              "</table>\n",
              "<p>442 rows × 9 columns</p>\n",
              "</div>\n",
              "      <button class=\"colab-df-convert\" onclick=\"convertToInteractive('df-59c0ed8d-00f7-4eb5-a20e-b7d045f5b495')\"\n",
              "              title=\"Convert this dataframe to an interactive table.\"\n",
              "              style=\"display:none;\">\n",
              "        \n",
              "  <svg xmlns=\"http://www.w3.org/2000/svg\" height=\"24px\"viewBox=\"0 0 24 24\"\n",
              "       width=\"24px\">\n",
              "    <path d=\"M0 0h24v24H0V0z\" fill=\"none\"/>\n",
              "    <path d=\"M18.56 5.44l.94 2.06.94-2.06 2.06-.94-2.06-.94-.94-2.06-.94 2.06-2.06.94zm-11 1L8.5 8.5l.94-2.06 2.06-.94-2.06-.94L8.5 2.5l-.94 2.06-2.06.94zm10 10l.94 2.06.94-2.06 2.06-.94-2.06-.94-.94-2.06-.94 2.06-2.06.94z\"/><path d=\"M17.41 7.96l-1.37-1.37c-.4-.4-.92-.59-1.43-.59-.52 0-1.04.2-1.43.59L10.3 9.45l-7.72 7.72c-.78.78-.78 2.05 0 2.83L4 21.41c.39.39.9.59 1.41.59.51 0 1.02-.2 1.41-.59l7.78-7.78 2.81-2.81c.8-.78.8-2.07 0-2.86zM5.41 20L4 18.59l7.72-7.72 1.47 1.35L5.41 20z\"/>\n",
              "  </svg>\n",
              "      </button>\n",
              "      \n",
              "  <style>\n",
              "    .colab-df-container {\n",
              "      display:flex;\n",
              "      flex-wrap:wrap;\n",
              "      gap: 12px;\n",
              "    }\n",
              "\n",
              "    .colab-df-convert {\n",
              "      background-color: #E8F0FE;\n",
              "      border: none;\n",
              "      border-radius: 50%;\n",
              "      cursor: pointer;\n",
              "      display: none;\n",
              "      fill: #1967D2;\n",
              "      height: 32px;\n",
              "      padding: 0 0 0 0;\n",
              "      width: 32px;\n",
              "    }\n",
              "\n",
              "    .colab-df-convert:hover {\n",
              "      background-color: #E2EBFA;\n",
              "      box-shadow: 0px 1px 2px rgba(60, 64, 67, 0.3), 0px 1px 3px 1px rgba(60, 64, 67, 0.15);\n",
              "      fill: #174EA6;\n",
              "    }\n",
              "\n",
              "    [theme=dark] .colab-df-convert {\n",
              "      background-color: #3B4455;\n",
              "      fill: #D2E3FC;\n",
              "    }\n",
              "\n",
              "    [theme=dark] .colab-df-convert:hover {\n",
              "      background-color: #434B5C;\n",
              "      box-shadow: 0px 1px 3px 1px rgba(0, 0, 0, 0.15);\n",
              "      filter: drop-shadow(0px 1px 2px rgba(0, 0, 0, 0.3));\n",
              "      fill: #FFFFFF;\n",
              "    }\n",
              "  </style>\n",
              "\n",
              "      <script>\n",
              "        const buttonEl =\n",
              "          document.querySelector('#df-59c0ed8d-00f7-4eb5-a20e-b7d045f5b495 button.colab-df-convert');\n",
              "        buttonEl.style.display =\n",
              "          google.colab.kernel.accessAllowed ? 'block' : 'none';\n",
              "\n",
              "        async function convertToInteractive(key) {\n",
              "          const element = document.querySelector('#df-59c0ed8d-00f7-4eb5-a20e-b7d045f5b495');\n",
              "          const dataTable =\n",
              "            await google.colab.kernel.invokeFunction('convertToInteractive',\n",
              "                                                     [key], {});\n",
              "          if (!dataTable) return;\n",
              "\n",
              "          const docLinkHtml = 'Like what you see? Visit the ' +\n",
              "            '<a target=\"_blank\" href=https://colab.research.google.com/notebooks/data_table.ipynb>data table notebook</a>'\n",
              "            + ' to learn more about interactive tables.';\n",
              "          element.innerHTML = '';\n",
              "          dataTable['output_type'] = 'display_data';\n",
              "          await google.colab.output.renderOutput(dataTable, element);\n",
              "          const docLink = document.createElement('div');\n",
              "          docLink.innerHTML = docLinkHtml;\n",
              "          element.appendChild(docLink);\n",
              "        }\n",
              "      </script>\n",
              "    </div>\n",
              "  </div>\n",
              "  "
            ]
          },
          "metadata": {},
          "execution_count": 4
        }
      ]
    },
    {
      "cell_type": "markdown",
      "source": [
        "### Explanation\n",
        "Notice that we have 444 observations/rows that contain one or more missing values. \n",
        "\n",
        "That's roughly **37%** of data contains missing values.\n",
        "\n",
        "We have used `[]` conversion to select a subset of data.\n",
        "\n",
        "More information about slicing and indexing can be found out here.\n",
        "\n",
        "`(axis=1)` is a numpy convention to specify columns.\n",
        "\n",
        "\n",
        "\n",
        "Note that the weight column of our DataFrame contains many null or NaN values. Next, we will explore ways of dealing with this.\n",
        "\n",
        "If we look at the weight column in the patient data, we notice that there are NaN (Not a Number) values. NaN values are undefined values that are not represented mathematically. \n",
        "\n",
        "Pandas, for example, will read an empty cell in a CSV or Excel sheet as a NaN. However, NaNs have some desirable properties: if we were to average the weight column without replacing our NaNs, Python would know to skip over those cells."
      ],
      "metadata": {
        "id": "ckl-RYpQBQzu"
      }
    },
    {
      "cell_type": "markdown",
      "source": [
        "\n",
        "## Dealing with missing values.\n",
        "\n",
        "Thoughts: \n",
        "\n",
        "1. What are some reasons why there might be missing data?\n",
        "2. How would you deal with missing values?\n",
        "3. Is it OK to ignore missing values when calculating the mean?\n",
        "4. What effect do missing values have when you multiply 2 columns (either test this out or think about what would happen)."
      ],
      "metadata": {
        "id": "_nt-a7JkBg1V"
      }
    },
    {
      "cell_type": "code",
      "source": [
        "## where Are the NaN's?\n",
        "\n",
        "## how many missing values are there in weight column\n",
        "len(patient_df[pd.isnull(patient_df.weight)])"
      ],
      "metadata": {
        "id": "risIAelFBXVd",
        "colab": {
          "base_uri": "https://localhost:8080/"
        },
        "outputId": "4427a1f1-47ab-439e-c533-42e264a6bc0d"
      },
      "execution_count": 5,
      "outputs": [
        {
          "output_type": "execute_result",
          "data": {
            "text/plain": [
              "207"
            ]
          },
          "metadata": {},
          "execution_count": 5
        }
      ]
    },
    {
      "cell_type": "code",
      "source": [
        "# number of rows have weight values\n",
        "len(patient_df[patient_df.weight> 0])"
      ],
      "metadata": {
        "id": "q1gh_ieaB5CL",
        "colab": {
          "base_uri": "https://localhost:8080/"
        },
        "outputId": "364800fe-8fcf-4e3d-9c3f-4500af4b8d8f"
      },
      "execution_count": 6,
      "outputs": [
        {
          "output_type": "execute_result",
          "data": {
            "text/plain": [
              "984"
            ]
          },
          "metadata": {},
          "execution_count": 6
        }
      ]
    },
    {
      "cell_type": "markdown",
      "source": [
        "We can replace all NaN values with zeroes using the .fillna() method (after making a copy of the data so we don't lose our work): "
      ],
      "metadata": {
        "id": "lLU4lmY_CDcn"
      }
    },
    {
      "cell_type": "code",
      "source": [
        "# create a new DataFrame using copy\n",
        "df1 = patient_df.copy()\n",
        "\n",
        "# fill all NaN values with 0\n",
        "df1['weight'] = df1['weight'].fillna(0)\n",
        "\n",
        "print(patient_df['weight'].mean())\n",
        "print(df1['weight'].mean())"
      ],
      "metadata": {
        "colab": {
          "base_uri": "https://localhost:8080/"
        },
        "id": "QYgCq9jhCBpw",
        "outputId": "ca25debb-6471-4f9a-b5fa-e657366b61ea"
      },
      "execution_count": 7,
      "outputs": [
        {
          "output_type": "stream",
          "name": "stdout",
          "text": [
            "71.09349593495935\n",
            "58.737195633921075\n"
          ]
        }
      ]
    },
    {
      "cell_type": "code",
      "source": [
        "# Fill all NaN values with mean\n",
        "df1 = patient_df.copy()\n",
        "df1['weight'] = df1['weight'].fillna(patient_df['weight'].mean())\n",
        "\n",
        "#check the mean \n",
        "print(patient_df['weight'].mean())\n",
        "print(df1['weight'].mean())"
      ],
      "metadata": {
        "colab": {
          "base_uri": "https://localhost:8080/"
        },
        "id": "2h30IrHHCLzU",
        "outputId": "f264917d-2fe8-4697-b90e-adafd4b4f56d"
      },
      "execution_count": 8,
      "outputs": [
        {
          "output_type": "stream",
          "name": "stdout",
          "text": [
            "71.09349593495935\n",
            "71.09349593495936\n"
          ]
        }
      ]
    },
    {
      "cell_type": "markdown",
      "source": [
        "## Writing Out Data to CSV\n",
        "\n",
        "Great, you've filled out all your data, but now you want to share it with your collaborators. To do that, you can just write to a CSV as usual."
      ],
      "metadata": {
        "id": "ldhMeqrKCljK"
      }
    },
    {
      "cell_type": "code",
      "source": [
        "# Write DataFrame to CSV\n",
        "df1.to_csv('surveys_complete.csv', index=False)"
      ],
      "metadata": {
        "id": "ADJ1_NWYCxc5"
      },
      "execution_count": 9,
      "outputs": []
    }
  ]
}